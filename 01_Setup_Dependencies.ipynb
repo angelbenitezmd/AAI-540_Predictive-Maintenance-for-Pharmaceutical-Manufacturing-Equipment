{
 "cells": [
  {
   "cell_type": "markdown",
   "metadata": {},
   "source": [
    "# Setup All Workshop Dependencies\n",
    "\n",
    "## _Note:  This Notebook Will Take A Few Minutes To Complete._\n",
    "\n",
    "## _Please Be Patient._"
   ]
  },
  {
   "cell_type": "code",
   "execution_count": 2,
   "metadata": {},
   "outputs": [
    {
     "name": "stdout",
     "output_type": "stream",
     "text": [
      "Python 3.10.6\n"
     ]
    }
   ],
   "source": [
    "!python --version"
   ]
  },
  {
   "cell_type": "code",
   "execution_count": 3,
   "metadata": {
    "scrolled": true
   },
   "outputs": [
    {
     "name": "stdout",
     "output_type": "stream",
     "text": [
      "Package                              Version\n",
      "------------------------------------ -------------------\n",
      "alabaster                            0.7.16\n",
      "annotated-types                      0.6.0\n",
      "anyio                                4.3.0\n",
      "appdirs                              1.4.4\n",
      "archspec                             0.2.2\n",
      "argon2-cffi                          23.1.0\n",
      "argon2-cffi-bindings                 21.2.0\n",
      "arrow                                1.3.0\n",
      "asgiref                              3.8.1\n",
      "astroid                              2.15.8\n",
      "astropy                              6.0.1\n",
      "astropy-iers-data                    0.2024.4.15.2.45.49\n",
      "asttokens                            2.4.1\n",
      "async-lru                            2.0.4\n",
      "atomicwrites                         1.4.1\n",
      "attrs                                23.2.0\n",
      "Authlib                              1.3.0\n",
      "Automat                              22.10.0\n",
      "autopep8                             2.0.4\n",
      "autovizwidget                        0.20.4\n",
      "awscli                               1.32.84\n",
      "Babel                                2.14.0\n",
      "bcrypt                               4.1.2\n",
      "beautifulsoup4                       4.12.3\n",
      "binaryornot                          0.4.4\n",
      "black                                24.4.0\n",
      "bleach                               6.1.0\n",
      "blinker                              1.7.0\n",
      "bokeh                                3.4.1\n",
      "boltons                              23.1.1\n",
      "boto3                                1.34.84\n",
      "botocore                             1.34.84\n",
      "Brotli                               1.1.0\n",
      "brotlipy                             0.7.0\n",
      "cached-property                      1.5.2\n",
      "certifi                              2024.2.2\n",
      "cffi                                 1.16.0\n",
      "chardet                              5.2.0\n",
      "charset-normalizer                   3.3.2\n",
      "click                                8.1.7\n",
      "cloudpickle                          2.2.1\n",
      "colorama                             0.4.4\n",
      "colorcet                             3.1.0\n",
      "comm                                 0.2.2\n",
      "conda                                23.11.0\n",
      "conda-content-trust                  0.2.0\n",
      "conda-libmamba-solver                23.12.0\n",
      "conda-package-handling               2.2.0\n",
      "conda_package_streaming              0.9.0\n",
      "constantly                           15.1.0\n",
      "contextlib2                          21.6.0\n",
      "contourpy                            1.2.1\n",
      "cookiecutter                         2.6.0\n",
      "cryptography                         42.0.5\n",
      "cycler                               0.12.1\n",
      "cytoolz                              0.12.3\n",
      "daal4py                              2024.3.0\n",
      "dask                                 2024.4.1\n",
      "dask-expr                            1.0.11\n",
      "debugpy                              1.8.1\n",
      "decorator                            5.1.1\n",
      "defusedxml                           0.7.1\n",
      "diff-match-patch                     20230430\n",
      "dill                                 0.3.8\n",
      "distributed                          2024.4.1\n",
      "distro                               1.8.0\n",
      "Django                               5.0.4\n",
      "docker                               6.1.3\n",
      "docstring-to-markdown                0.15\n",
      "docutils                             0.16\n",
      "dparse                               0.6.4b0\n",
      "entrypoints                          0.4\n",
      "et-xmlfile                           1.1.0\n",
      "exceptiongroup                       1.2.0\n",
      "executing                            2.0.1\n",
      "fastapi                              0.110.1\n",
      "fastjsonschema                       2.19.1\n",
      "filelock                             3.13.4\n",
      "flake8                               7.0.0\n",
      "Flask                                2.3.3\n",
      "fonttools                            4.51.0\n",
      "fqdn                                 1.5.1\n",
      "fsspec                               2024.3.1\n",
      "future                               1.0.0\n",
      "gevent                               23.9.0.post1\n",
      "gmpy2                                2.1.2\n",
      "google-pasta                         0.2.0\n",
      "greenlet                             3.0.3\n",
      "gssapi                               1.8.3\n",
      "h11                                  0.14.0\n",
      "h2                                   4.1.0\n",
      "h5py                                 3.11.0\n",
      "hdijupyterutils                      0.20.4\n",
      "holoviews                            1.18.3\n",
      "hpack                                4.0.0\n",
      "httpcore                             1.0.5\n",
      "httpx                                0.27.0\n",
      "hyperframe                           6.0.1\n",
      "hyperlink                            21.0.0\n",
      "idna                                 3.6\n",
      "imagecodecs                          2024.1.1\n",
      "imageio                              2.34.0\n",
      "imagesize                            1.4.1\n",
      "importlib-metadata                   6.11.0\n",
      "importlib_resources                  6.4.0\n",
      "incremental                          22.10.0\n",
      "inflection                           0.5.1\n",
      "iniconfig                            2.0.0\n",
      "intervaltree                         3.1.0\n",
      "ipykernel                            6.29.3\n",
      "ipython                              8.23.0\n",
      "ipython-genutils                     0.2.0\n",
      "ipywidgets                           7.6.5\n",
      "isoduration                          20.11.0\n",
      "isort                                5.13.2\n",
      "itsdangerous                         2.1.2\n",
      "jaraco.classes                       3.4.0\n",
      "jaraco.context                       4.3.0\n",
      "jaraco.functools                     4.0.0\n",
      "jedi                                 0.19.1\n",
      "jeepney                              0.8.0\n",
      "jellyfish                            1.0.3\n",
      "Jinja2                               3.1.3\n",
      "jmespath                             1.0.1\n",
      "joblib                               1.4.0\n",
      "json5                                0.9.25\n",
      "jsonpatch                            1.33\n",
      "jsonpointer                          2.4\n",
      "jsonschema                           4.21.1\n",
      "jsonschema-specifications            2023.12.1\n",
      "jupyter                              1.0.0\n",
      "jupyter_client                       7.4.9\n",
      "jupyter-console                      6.6.3\n",
      "jupyter_core                         5.7.2\n",
      "jupyter-events                       0.10.0\n",
      "jupyter-lsp                          2.2.5\n",
      "jupyter_server                       2.14.0\n",
      "jupyter_server_terminals             0.5.3\n",
      "jupyterlab                           4.1.6\n",
      "jupyterlab_pygments                  0.3.0\n",
      "jupyterlab_server                    2.26.0\n",
      "jupyterlab_widgets                   3.0.10\n",
      "keyring                              25.1.0\n",
      "kiwisolver                           1.4.5\n",
      "krb5                                 0.5.1\n",
      "lazy-object-proxy                    1.10.0\n",
      "libmambapy                           1.5.5\n",
      "lief                                 0.14.1\n",
      "linkify-it-py                        2.0.3\n",
      "llvmlite                             0.42.0\n",
      "locket                               1.0.0\n",
      "lxml                                 5.1.0\n",
      "lz4                                  4.3.3\n",
      "mamba                                1.5.5\n",
      "Markdown                             3.6\n",
      "markdown-it-py                       3.0.0\n",
      "MarkupSafe                           2.1.5\n",
      "marshmallow                          3.21.1\n",
      "matplotlib                           3.8.4\n",
      "matplotlib-inline                    0.1.6\n",
      "mccabe                               0.7.0\n",
      "mdit-py-plugins                      0.4.0\n",
      "mdurl                                0.1.2\n",
      "menuinst                             2.0.1\n",
      "mistune                              0.8.4\n",
      "mock                                 5.1.0\n",
      "more-itertools                       10.2.0\n",
      "mpmath                               1.3.0\n",
      "msgpack                              1.0.7\n",
      "multiprocess                         0.70.16\n",
      "munkres                              1.1.4\n",
      "mypy-extensions                      1.0.0\n",
      "nb_conda_kernels                     2.3.1\n",
      "nbclassic                            1.0.0\n",
      "nbclient                             0.10.0\n",
      "nbconvert                            6.5.3\n",
      "nbformat                             5.10.4\n",
      "nest-asyncio                         1.5.5\n",
      "nltk                                 3.8.1\n",
      "nose                                 1.3.7\n",
      "notebook                             6.5.6\n",
      "notebook_shim                        0.2.4\n",
      "numba                                0.59.1\n",
      "numexpr                              2.9.0\n",
      "numpy                                1.26.4\n",
      "numpydoc                             1.7.0\n",
      "openpyxl                             3.1.2\n",
      "overrides                            7.7.0\n",
      "packaging                            23.2\n",
      "pandas                               2.2.2\n",
      "pandocfilters                        1.5.0\n",
      "panel                                1.4.1\n",
      "papermill                            2.5.0\n",
      "param                                2.1.0\n",
      "parso                                0.8.4\n",
      "partd                                1.4.1\n",
      "pathos                               0.3.2\n",
      "pathspec                             0.12.1\n",
      "patsy                                0.5.6\n",
      "pexpect                              4.9.0\n",
      "pickleshare                          0.7.5\n",
      "pillow                               10.3.0\n",
      "pip                                  24.0\n",
      "pkgutil_resolve_name                 1.3.10\n",
      "platformdirs                         4.1.0\n",
      "plotly                               5.19.0\n",
      "pluggy                               1.4.0\n",
      "ply                                  3.11\n",
      "pox                                  0.3.4\n",
      "ppft                                 1.7.6.8\n",
      "prometheus_client                    0.20.0\n",
      "prompt-toolkit                       3.0.42\n",
      "protobuf                             4.25.3\n",
      "psutil                               5.9.8\n",
      "ptyprocess                           0.7.0\n",
      "pure-eval                            0.2.2\n",
      "pure-sasl                            0.6.2\n",
      "pyarrow                              15.0.2\n",
      "pyarrow-hotfix                       0.6\n",
      "pyasn1                               0.6.0\n",
      "pyasn1_modules                       0.4.0\n",
      "pycodestyle                          2.11.1\n",
      "pycosat                              0.6.6\n",
      "pycparser                            2.21\n",
      "pydantic                             2.7.0\n",
      "pydantic_core                        2.18.1\n",
      "pydocstyle                           6.3.0\n",
      "pyerfa                               2.0.1.4\n",
      "pyflakes                             3.2.0\n",
      "pyfunctional                         1.5.0\n",
      "Pygments                             2.17.2\n",
      "PyHive                               0.7.0\n",
      "pylint                               2.17.7\n",
      "pylint-venv                          3.0.3\n",
      "pyls-spyder                          0.4.0\n",
      "pyodbc                               5.1.0\n",
      "pyOpenSSL                            24.0.0\n",
      "pyparsing                            3.1.2\n",
      "PyQt5                                5.15.9\n",
      "PyQt5-sip                            12.12.2\n",
      "PyQtWebEngine                        5.15.4\n",
      "PySocks                              1.7.1\n",
      "pyspnego                             0.9.1\n",
      "pytest                               8.1.1\n",
      "python-dateutil                      2.9.0\n",
      "python-json-logger                   2.0.7\n",
      "python-lsp-black                     2.0.0\n",
      "python-lsp-jsonrpc                   1.1.2\n",
      "python-lsp-server                    1.10.1\n",
      "python-slugify                       8.0.4\n",
      "pytoolconfig                         1.2.5\n",
      "pytz                                 2024.1\n",
      "pyviz_comms                          3.0.1\n",
      "pyxdg                                0.28\n",
      "PyYAML                               6.0.1\n",
      "pyzmq                                24.0.1\n",
      "QDarkStyle                           3.2.3\n",
      "qstylizer                            0.2.2\n",
      "QtAwesome                            1.2.3\n",
      "qtconsole                            5.5.1\n",
      "QtPy                                 2.4.1\n",
      "referencing                          0.34.0\n",
      "regex                                2023.12.25\n",
      "requests                             2.31.0\n",
      "requests-kerberos                    0.14.0\n",
      "rfc3339-validator                    0.1.4\n",
      "rfc3986-validator                    0.1.1\n",
      "rich                                 13.7.1\n",
      "rope                                 1.13.0\n",
      "rpds-py                              0.18.0\n",
      "rsa                                  4.7.2\n",
      "Rtree                                1.2.0\n",
      "ruamel.yaml                          0.18.5\n",
      "ruamel.yaml.clib                     0.2.7\n",
      "ruamel-yaml-conda                    0.15.80\n",
      "s3fs                                 0.4.2\n",
      "s3transfer                           0.10.1\n",
      "safety-schemas                       0.0.2\n",
      "sagemaker                            2.215.0\n",
      "sagemaker-data-insights              0.3.3\n",
      "sagemaker-datawrangler               0.4.3\n",
      "sagemaker-headless-execution-driver  0.0.13\n",
      "sagemaker-scikit-learn-extension     2.5.0\n",
      "sagemaker-studio-analytics-extension 0.0.20\n",
      "sagemaker-studio-sparkmagic-lib      0.1.4\n",
      "sasl                                 0.3.1\n",
      "schema                               0.7.5\n",
      "scikit-learn                         1.4.2\n",
      "scipy                                1.13.0\n",
      "seaborn                              0.13.2\n",
      "SecretStorage                        3.3.3\n",
      "Send2Trash                           1.8.3\n",
      "service-identity                     21.1.0\n",
      "setuptools                           69.5.1\n",
      "shellingham                          1.5.4\n",
      "sip                                  6.7.12\n",
      "six                                  1.16.0\n",
      "smclarify                            0.5\n",
      "smdebug-rulesconfig                  1.0.1\n",
      "sniffio                              1.3.1\n",
      "snowballstemmer                      2.2.0\n",
      "sortedcontainers                     2.4.0\n",
      "soupsieve                            2.5\n",
      "sparkmagic                           0.20.4\n",
      "Sphinx                               7.2.6\n",
      "sphinxcontrib-applehelp              1.0.8\n",
      "sphinxcontrib-devhelp                1.0.6\n",
      "sphinxcontrib-htmlhelp               2.0.5\n",
      "sphinxcontrib-jsmath                 1.0.1\n",
      "sphinxcontrib-qthelp                 1.0.7\n",
      "sphinxcontrib-serializinghtml        1.1.10\n",
      "spyder                               5.5.3\n",
      "spyder-kernels                       2.5.1\n",
      "SQLAlchemy                           2.0.29\n",
      "sqlparse                             0.4.4\n",
      "stack-data                           0.6.2\n",
      "starlette                            0.37.2\n",
      "statsmodels                          0.14.1\n",
      "sympy                                1.12\n",
      "tabulate                             0.9.0\n",
      "tblib                                3.0.0\n",
      "tenacity                             8.2.3\n",
      "terminado                            0.18.1\n",
      "text-unidecode                       1.3\n",
      "textdistance                         4.5.0\n",
      "threadpoolctl                        3.4.0\n",
      "three-merge                          0.1.1\n",
      "thrift                               0.20.0\n",
      "thrift-sasl                          0.4.3\n",
      "tinycss2                             1.2.1\n",
      "toml                                 0.10.2\n",
      "tomli                                2.0.1\n",
      "tomlkit                              0.12.4\n",
      "toolz                                0.12.1\n",
      "tornado                              6.4\n",
      "tqdm                                 4.66.1\n",
      "traitlets                            5.14.2\n",
      "truststore                           0.8.0\n",
      "Twisted                              24.3.0\n",
      "typer                                0.12.3\n",
      "types-python-dateutil                2.9.0.20240316\n",
      "typing_extensions                    4.11.0\n",
      "typing-utils                         0.1.0\n",
      "tzdata                               2024.1\n",
      "uc-micro-py                          1.0.3\n",
      "ujson                                5.9.0\n",
      "unicodedata2                         15.1.0\n",
      "uri-template                         1.3.0\n",
      "urllib3                              2.2.1\n",
      "w3lib                                2.1.2\n",
      "watchdog                             4.0.0\n",
      "wcwidth                              0.2.13\n",
      "webcolors                            1.13\n",
      "webencodings                         0.5.1\n",
      "websocket-client                     1.7.0\n",
      "Werkzeug                             2.3.8\n",
      "whatthepatch                         1.0.5\n",
      "wheel                                0.43.0\n",
      "widgetsnbextension                   3.5.2\n",
      "wrapt                                1.16.0\n",
      "wurlitzer                            3.0.3\n",
      "xlrd                                 2.0.1\n",
      "xyzservices                          2024.4.0\n",
      "yapf                                 0.40.1\n",
      "zict                                 3.0.0\n",
      "zipp                                 3.17.0\n",
      "zope.event                           5.0\n",
      "zope.interface                       6.3\n",
      "zstandard                            0.22.0\n"
     ]
    }
   ],
   "source": [
    "!pip list"
   ]
  },
  {
   "cell_type": "markdown",
   "metadata": {},
   "source": [
    "# Pip"
   ]
  },
  {
   "cell_type": "code",
   "execution_count": 2,
   "metadata": {
    "tags": []
   },
   "outputs": [
    {
     "name": "stdout",
     "output_type": "stream",
     "text": [
      "\u001b[33mWARNING: Running pip as the 'root' user can result in broken permissions and conflicting behaviour with the system package manager. It is recommended to use a virtual environment instead: https://pip.pypa.io/warnings/venv\u001b[0m\u001b[33m\n",
      "\u001b[0m\u001b[33mWARNING: Running pip as the 'root' user can result in broken permissions and conflicting behaviour with the system package manager, possibly rendering your system unusable.It is recommended to use a virtual environment instead: https://pip.pypa.io/warnings/venv. Use the --root-user-action option if you know what you are doing and want to suppress this warning.\u001b[0m\u001b[33m\n",
      "\u001b[0m"
     ]
    }
   ],
   "source": [
    "!pip install --disable-pip-version-check -q pip --upgrade > /dev/null\n",
    "!pip install --disable-pip-version-check -q wrapt --upgrade > /dev/null"
   ]
  },
  {
   "cell_type": "markdown",
   "metadata": {},
   "source": [
    "### _Ignore any warning or error message ^^ above ^^.  This is OK!_"
   ]
  },
  {
   "cell_type": "markdown",
   "metadata": {},
   "source": [
    "# AWS CLI and AWS Python SDK (boto3)"
   ]
  },
  {
   "cell_type": "code",
   "execution_count": 3,
   "metadata": {
    "tags": []
   },
   "outputs": [
    {
     "name": "stdout",
     "output_type": "stream",
     "text": [
      "\u001b[33mWARNING: Running pip as the 'root' user can result in broken permissions and conflicting behaviour with the system package manager, possibly rendering your system unusable.It is recommended to use a virtual environment instead: https://pip.pypa.io/warnings/venv. Use the --root-user-action option if you know what you are doing and want to suppress this warning.\u001b[0m\u001b[33m\n",
      "\u001b[0m"
     ]
    }
   ],
   "source": [
    "!pip install --disable-pip-version-check -q awscli boto3"
   ]
  },
  {
   "cell_type": "markdown",
   "metadata": {},
   "source": [
    "### _Ignore any warning or error message ^^ above ^^.  This is OK!_"
   ]
  },
  {
   "cell_type": "markdown",
   "metadata": {},
   "source": [
    "# SageMaker"
   ]
  },
  {
   "cell_type": "code",
   "execution_count": 4,
   "metadata": {
    "tags": []
   },
   "outputs": [
    {
     "name": "stdout",
     "output_type": "stream",
     "text": [
      "\u001b[33mWARNING: Running pip as the 'root' user can result in broken permissions and conflicting behaviour with the system package manager, possibly rendering your system unusable.It is recommended to use a virtual environment instead: https://pip.pypa.io/warnings/venv. Use the --root-user-action option if you know what you are doing and want to suppress this warning.\u001b[0m\u001b[33m\n",
      "\u001b[0m\u001b[33mWARNING: Running pip as the 'root' user can result in broken permissions and conflicting behaviour with the system package manager, possibly rendering your system unusable.It is recommended to use a virtual environment instead: https://pip.pypa.io/warnings/venv. Use the --root-user-action option if you know what you are doing and want to suppress this warning.\u001b[0m\u001b[33m\n",
      "\u001b[0m\u001b[33mWARNING: Running pip as the 'root' user can result in broken permissions and conflicting behaviour with the system package manager, possibly rendering your system unusable.It is recommended to use a virtual environment instead: https://pip.pypa.io/warnings/venv. Use the --root-user-action option if you know what you are doing and want to suppress this warning.\u001b[0m\u001b[33m\n",
      "\u001b[0m"
     ]
    }
   ],
   "source": [
    "!pip install --disable-pip-version-check -q sagemaker\n",
    "!pip install --disable-pip-version-check -q smdebug\n",
    "!pip install --disable-pip-version-check -q sagemaker-experiments"
   ]
  },
  {
   "cell_type": "markdown",
   "metadata": {},
   "source": [
    "### _Ignore any warning or error message ^^ above ^^.  This is OK!_"
   ]
  },
  {
   "cell_type": "markdown",
   "metadata": {},
   "source": [
    "# PyAthena"
   ]
  },
  {
   "cell_type": "code",
   "execution_count": 5,
   "metadata": {
    "tags": []
   },
   "outputs": [
    {
     "name": "stdout",
     "output_type": "stream",
     "text": [
      "\u001b[33mWARNING: Running pip as the 'root' user can result in broken permissions and conflicting behaviour with the system package manager, possibly rendering your system unusable.It is recommended to use a virtual environment instead: https://pip.pypa.io/warnings/venv. Use the --root-user-action option if you know what you are doing and want to suppress this warning.\u001b[0m\u001b[33m\n",
      "\u001b[0m"
     ]
    }
   ],
   "source": [
    "!pip install --disable-pip-version-check -q PyAthena"
   ]
  },
  {
   "cell_type": "markdown",
   "metadata": {},
   "source": [
    "### _Ignore any warning or error message ^^ above ^^.  This is OK!_"
   ]
  },
  {
   "cell_type": "markdown",
   "metadata": {},
   "source": [
    "# AWS Data Wrangler"
   ]
  },
  {
   "cell_type": "code",
   "execution_count": 6,
   "metadata": {
    "tags": []
   },
   "outputs": [
    {
     "name": "stdout",
     "output_type": "stream",
     "text": [
      "\u001b[33mWARNING: Running pip as the 'root' user can result in broken permissions and conflicting behaviour with the system package manager, possibly rendering your system unusable.It is recommended to use a virtual environment instead: https://pip.pypa.io/warnings/venv. Use the --root-user-action option if you know what you are doing and want to suppress this warning.\u001b[0m\u001b[33m\n",
      "\u001b[0m"
     ]
    }
   ],
   "source": [
    "!pip install --disable-pip-version-check -q awswrangler"
   ]
  },
  {
   "cell_type": "markdown",
   "metadata": {},
   "source": [
    "### _Ignore any warning or error message ^^ above ^^.  This is OK!_"
   ]
  },
  {
   "cell_type": "markdown",
   "metadata": {},
   "source": [
    "# Zip"
   ]
  },
  {
   "cell_type": "code",
   "execution_count": 7,
   "metadata": {
    "tags": []
   },
   "outputs": [
    {
     "name": "stdout",
     "output_type": "stream",
     "text": [
      "Retrieving notices: ...working... done\n",
      "Channels:\n",
      " - conda-forge\n",
      "Platform: linux-64\n",
      "Collecting package metadata (repodata.json): - "
     ]
    }
   ],
   "source": [
    "!conda install -y zip"
   ]
  },
  {
   "cell_type": "markdown",
   "metadata": {},
   "source": [
    "# Matplotlib"
   ]
  },
  {
   "cell_type": "code",
   "execution_count": 8,
   "metadata": {
    "tags": []
   },
   "outputs": [
    {
     "name": "stdout",
     "output_type": "stream",
     "text": [
      "\u001b[33mWARNING: Running pip as the 'root' user can result in broken permissions and conflicting behaviour with the system package manager, possibly rendering your system unusable.It is recommended to use a virtual environment instead: https://pip.pypa.io/warnings/venv. Use the --root-user-action option if you know what you are doing and want to suppress this warning.\u001b[0m\u001b[33m\n",
      "\u001b[0m"
     ]
    }
   ],
   "source": [
    "!pip install --disable-pip-version-check -q matplotlib"
   ]
  },
  {
   "cell_type": "markdown",
   "metadata": {},
   "source": [
    "### _Ignore any warning or error message ^^ above ^^.  This is OK!_"
   ]
  },
  {
   "cell_type": "markdown",
   "metadata": {},
   "source": [
    "# Seaborn"
   ]
  },
  {
   "cell_type": "code",
   "execution_count": 9,
   "metadata": {
    "tags": []
   },
   "outputs": [
    {
     "name": "stdout",
     "output_type": "stream",
     "text": [
      "\u001b[33mWARNING: Running pip as the 'root' user can result in broken permissions and conflicting behaviour with the system package manager, possibly rendering your system unusable.It is recommended to use a virtual environment instead: https://pip.pypa.io/warnings/venv. Use the --root-user-action option if you know what you are doing and want to suppress this warning.\u001b[0m\u001b[33m\n",
      "\u001b[0m"
     ]
    }
   ],
   "source": [
    "!pip install --disable-pip-version-check -q seaborn"
   ]
  },
  {
   "cell_type": "markdown",
   "metadata": {},
   "source": [
    "### _Ignore any warning or error message ^^ above ^^.  This is OK!_"
   ]
  },
  {
   "cell_type": "markdown",
   "metadata": {},
   "source": [
    "# Summarize"
   ]
  },
  {
   "cell_type": "code",
   "execution_count": 12,
   "metadata": {},
   "outputs": [
    {
     "name": "stdout",
     "output_type": "stream",
     "text": [
      "Python 3.10.6\n"
     ]
    }
   ],
   "source": [
    "!python --version"
   ]
  },
  {
   "cell_type": "code",
   "execution_count": 13,
   "metadata": {
    "scrolled": true
   },
   "outputs": [
    {
     "name": "stdout",
     "output_type": "stream",
     "text": [
      "Package                              Version\n",
      "------------------------------------ -------------------\n",
      "alabaster                            0.7.16\n",
      "annotated-types                      0.6.0\n",
      "anyio                                4.3.0\n",
      "appdirs                              1.4.4\n",
      "archspec                             0.2.2\n",
      "argon2-cffi                          23.1.0\n",
      "argon2-cffi-bindings                 21.2.0\n",
      "arrow                                1.3.0\n",
      "asgiref                              3.8.1\n",
      "astroid                              2.15.8\n",
      "astropy                              6.0.1\n",
      "astropy-iers-data                    0.2024.4.15.2.45.49\n",
      "asttokens                            2.4.1\n",
      "async-lru                            2.0.4\n",
      "atomicwrites                         1.4.1\n",
      "attrs                                23.2.0\n",
      "Authlib                              1.3.0\n",
      "Automat                              22.10.0\n",
      "autopep8                             2.0.4\n",
      "autovizwidget                        0.20.4\n",
      "awscli                               1.32.84\n",
      "awswrangler                          3.9.1\n",
      "Babel                                2.14.0\n",
      "bcrypt                               4.1.2\n",
      "beautifulsoup4                       4.12.3\n",
      "binaryornot                          0.4.4\n",
      "black                                24.4.0\n",
      "bleach                               6.1.0\n",
      "blinker                              1.7.0\n",
      "bokeh                                3.4.1\n",
      "boltons                              23.1.1\n",
      "boto3                                1.34.84\n",
      "botocore                             1.34.84\n",
      "Brotli                               1.1.0\n",
      "brotlipy                             0.7.0\n",
      "cached-property                      1.5.2\n",
      "certifi                              2024.2.2\n",
      "cffi                                 1.16.0\n",
      "chardet                              5.2.0\n",
      "charset-normalizer                   3.3.2\n",
      "click                                8.1.7\n",
      "cloudpickle                          2.2.1\n",
      "colorama                             0.4.4\n",
      "colorcet                             3.1.0\n",
      "comm                                 0.2.2\n",
      "conda                                23.11.0\n",
      "conda-content-trust                  0.2.0\n",
      "conda-libmamba-solver                23.12.0\n",
      "conda-package-handling               2.2.0\n",
      "conda_package_streaming              0.9.0\n",
      "constantly                           15.1.0\n",
      "contextlib2                          21.6.0\n",
      "contourpy                            1.2.1\n",
      "cookiecutter                         2.6.0\n",
      "cryptography                         42.0.5\n",
      "cycler                               0.12.1\n",
      "cytoolz                              0.12.3\n",
      "daal4py                              2024.3.0\n",
      "dask                                 2024.4.1\n",
      "dask-expr                            1.0.11\n",
      "debugpy                              1.8.1\n",
      "decorator                            5.1.1\n",
      "defusedxml                           0.7.1\n",
      "diff-match-patch                     20230430\n",
      "dill                                 0.3.8\n",
      "distributed                          2024.4.1\n",
      "distro                               1.8.0\n",
      "Django                               5.0.4\n",
      "docker                               6.1.3\n",
      "docstring-to-markdown                0.15\n",
      "docutils                             0.16\n",
      "dparse                               0.6.4b0\n",
      "entrypoints                          0.4\n",
      "et-xmlfile                           1.1.0\n",
      "exceptiongroup                       1.2.0\n",
      "executing                            2.0.1\n",
      "fastapi                              0.110.1\n",
      "fastjsonschema                       2.19.1\n",
      "filelock                             3.13.4\n",
      "flake8                               7.0.0\n",
      "Flask                                2.3.3\n",
      "fonttools                            4.51.0\n",
      "fqdn                                 1.5.1\n",
      "fsspec                               2024.3.1\n",
      "future                               1.0.0\n",
      "gevent                               23.9.0.post1\n",
      "gmpy2                                2.1.2\n",
      "google-pasta                         0.2.0\n",
      "greenlet                             3.0.3\n",
      "gssapi                               1.8.3\n",
      "h11                                  0.14.0\n",
      "h2                                   4.1.0\n",
      "h5py                                 3.11.0\n",
      "hdijupyterutils                      0.20.4\n",
      "holoviews                            1.18.3\n",
      "hpack                                4.0.0\n",
      "httpcore                             1.0.5\n",
      "httpx                                0.27.0\n",
      "hyperframe                           6.0.1\n",
      "hyperlink                            21.0.0\n",
      "idna                                 3.6\n",
      "imagecodecs                          2024.1.1\n",
      "imageio                              2.34.0\n",
      "imagesize                            1.4.1\n",
      "importlib-metadata                   6.11.0\n",
      "importlib_resources                  6.4.0\n",
      "incremental                          22.10.0\n",
      "inflection                           0.5.1\n",
      "iniconfig                            2.0.0\n",
      "intervaltree                         3.1.0\n",
      "ipykernel                            6.29.3\n",
      "ipython                              8.23.0\n",
      "ipython-genutils                     0.2.0\n",
      "ipywidgets                           7.6.5\n",
      "isoduration                          20.11.0\n",
      "isort                                5.13.2\n",
      "itsdangerous                         2.1.2\n",
      "jaraco.classes                       3.4.0\n",
      "jaraco.context                       4.3.0\n",
      "jaraco.functools                     4.0.0\n",
      "jedi                                 0.19.1\n",
      "jeepney                              0.8.0\n",
      "jellyfish                            1.0.3\n",
      "Jinja2                               3.1.3\n",
      "jmespath                             1.0.1\n",
      "joblib                               1.4.0\n",
      "json5                                0.9.25\n",
      "jsonpatch                            1.33\n",
      "jsonpointer                          2.4\n",
      "jsonschema                           4.21.1\n",
      "jsonschema-specifications            2023.12.1\n",
      "jupyter                              1.0.0\n",
      "jupyter_client                       7.4.9\n",
      "jupyter-console                      6.6.3\n",
      "jupyter_core                         5.7.2\n",
      "jupyter-events                       0.10.0\n",
      "jupyter-lsp                          2.2.5\n",
      "jupyter_server                       2.14.0\n",
      "jupyter_server_terminals             0.5.3\n",
      "jupyterlab                           4.1.6\n",
      "jupyterlab_pygments                  0.3.0\n",
      "jupyterlab_server                    2.26.0\n",
      "jupyterlab_widgets                   3.0.10\n",
      "keyring                              25.1.0\n",
      "kiwisolver                           1.4.5\n",
      "krb5                                 0.5.1\n",
      "lazy-object-proxy                    1.10.0\n",
      "libmambapy                           1.5.5\n",
      "lief                                 0.14.1\n",
      "linkify-it-py                        2.0.3\n",
      "llvmlite                             0.42.0\n",
      "locket                               1.0.0\n",
      "lxml                                 5.1.0\n",
      "lz4                                  4.3.3\n",
      "mamba                                1.5.5\n",
      "Markdown                             3.6\n",
      "markdown-it-py                       3.0.0\n",
      "MarkupSafe                           2.1.5\n",
      "marshmallow                          3.21.1\n",
      "matplotlib                           3.8.4\n",
      "matplotlib-inline                    0.1.6\n",
      "mccabe                               0.7.0\n",
      "mdit-py-plugins                      0.4.0\n",
      "mdurl                                0.1.2\n",
      "menuinst                             2.0.1\n",
      "mistune                              0.8.4\n",
      "mock                                 5.1.0\n",
      "more-itertools                       10.2.0\n",
      "mpmath                               1.3.0\n",
      "msgpack                              1.0.7\n",
      "multiprocess                         0.70.16\n",
      "munkres                              1.1.4\n",
      "mypy-extensions                      1.0.0\n",
      "nb_conda_kernels                     2.3.1\n",
      "nbclassic                            1.0.0\n",
      "nbclient                             0.10.0\n",
      "nbconvert                            6.5.3\n",
      "nbformat                             5.10.4\n",
      "nest-asyncio                         1.5.5\n",
      "nltk                                 3.8.1\n",
      "nose                                 1.3.7\n",
      "notebook                             6.5.6\n",
      "notebook_shim                        0.2.4\n",
      "numba                                0.59.1\n",
      "numexpr                              2.9.0\n",
      "numpy                                1.26.4\n",
      "numpydoc                             1.7.0\n",
      "openpyxl                             3.1.2\n",
      "overrides                            7.7.0\n",
      "packaging                            23.2\n",
      "pandas                               2.2.2\n",
      "pandocfilters                        1.5.0\n",
      "panel                                1.4.1\n",
      "papermill                            2.5.0\n",
      "param                                2.1.0\n",
      "parso                                0.8.4\n",
      "partd                                1.4.1\n",
      "pathos                               0.3.2\n",
      "pathspec                             0.12.1\n",
      "patsy                                0.5.6\n",
      "pexpect                              4.9.0\n",
      "pickleshare                          0.7.5\n",
      "pillow                               10.3.0\n",
      "pip                                  24.2\n",
      "pkgutil_resolve_name                 1.3.10\n",
      "platformdirs                         4.1.0\n",
      "plotly                               5.19.0\n",
      "pluggy                               1.4.0\n",
      "ply                                  3.11\n",
      "pox                                  0.3.4\n",
      "ppft                                 1.7.6.8\n",
      "prometheus_client                    0.20.0\n",
      "prompt-toolkit                       3.0.42\n",
      "protobuf                             3.20.3\n",
      "psutil                               5.9.8\n",
      "ptyprocess                           0.7.0\n",
      "pure-eval                            0.2.2\n",
      "pure-sasl                            0.6.2\n",
      "pyarrow                              15.0.2\n",
      "pyarrow-hotfix                       0.6\n",
      "pyasn1                               0.6.0\n",
      "pyasn1_modules                       0.4.0\n",
      "PyAthena                             3.9.0\n",
      "pycodestyle                          2.11.1\n",
      "pycosat                              0.6.6\n",
      "pycparser                            2.21\n",
      "pydantic                             2.7.0\n",
      "pydantic_core                        2.18.1\n",
      "pydocstyle                           6.3.0\n",
      "pyerfa                               2.0.1.4\n",
      "pyflakes                             3.2.0\n",
      "pyfunctional                         1.5.0\n",
      "Pygments                             2.17.2\n",
      "PyHive                               0.7.0\n",
      "pyinstrument                         3.4.2\n",
      "pyinstrument_cext                    0.2.4\n",
      "pylint                               2.17.7\n",
      "pylint-venv                          3.0.3\n",
      "pyls-spyder                          0.4.0\n",
      "pyodbc                               5.1.0\n",
      "pyOpenSSL                            24.0.0\n",
      "pyparsing                            3.1.2\n",
      "PyQt5                                5.15.9\n",
      "PyQt5-sip                            12.12.2\n",
      "PyQtWebEngine                        5.15.4\n",
      "PySocks                              1.7.1\n",
      "pyspnego                             0.9.1\n",
      "pytest                               8.1.1\n",
      "python-dateutil                      2.9.0\n",
      "python-json-logger                   2.0.7\n",
      "python-lsp-black                     2.0.0\n",
      "python-lsp-jsonrpc                   1.1.2\n",
      "python-lsp-server                    1.10.1\n",
      "python-slugify                       8.0.4\n",
      "pytoolconfig                         1.2.5\n",
      "pytz                                 2024.1\n",
      "pyviz_comms                          3.0.1\n",
      "pyxdg                                0.28\n",
      "PyYAML                               6.0.1\n",
      "pyzmq                                24.0.1\n",
      "QDarkStyle                           3.2.3\n",
      "qstylizer                            0.2.2\n",
      "QtAwesome                            1.2.3\n",
      "qtconsole                            5.5.1\n",
      "QtPy                                 2.4.1\n",
      "referencing                          0.34.0\n",
      "regex                                2023.12.25\n",
      "requests                             2.31.0\n",
      "requests-kerberos                    0.14.0\n",
      "rfc3339-validator                    0.1.4\n",
      "rfc3986-validator                    0.1.1\n",
      "rich                                 13.7.1\n",
      "rope                                 1.13.0\n",
      "rpds-py                              0.18.0\n",
      "rsa                                  4.7.2\n",
      "Rtree                                1.2.0\n",
      "ruamel.yaml                          0.18.5\n",
      "ruamel.yaml.clib                     0.2.7\n",
      "ruamel-yaml-conda                    0.15.80\n",
      "s3fs                                 0.4.2\n",
      "s3transfer                           0.10.1\n",
      "safety-schemas                       0.0.2\n",
      "sagemaker                            2.215.0\n",
      "sagemaker-data-insights              0.3.3\n",
      "sagemaker-datawrangler               0.4.3\n",
      "sagemaker-experiments                0.1.45\n",
      "sagemaker-headless-execution-driver  0.0.13\n",
      "sagemaker-scikit-learn-extension     2.5.0\n",
      "sagemaker-studio-analytics-extension 0.0.20\n",
      "sagemaker-studio-sparkmagic-lib      0.1.4\n",
      "sasl                                 0.3.1\n",
      "schema                               0.7.5\n",
      "scikit-learn                         1.4.2\n",
      "scipy                                1.13.0\n",
      "seaborn                              0.13.2\n",
      "SecretStorage                        3.3.3\n",
      "Send2Trash                           1.8.3\n",
      "service-identity                     21.1.0\n",
      "setuptools                           69.5.1\n",
      "shellingham                          1.5.4\n",
      "sip                                  6.7.12\n",
      "six                                  1.16.0\n",
      "smclarify                            0.5\n",
      "smdebug                              1.0.34\n",
      "smdebug-rulesconfig                  1.0.1\n",
      "sniffio                              1.3.1\n",
      "snowballstemmer                      2.2.0\n",
      "sortedcontainers                     2.4.0\n",
      "soupsieve                            2.5\n",
      "sparkmagic                           0.20.4\n",
      "Sphinx                               7.2.6\n",
      "sphinxcontrib-applehelp              1.0.8\n",
      "sphinxcontrib-devhelp                1.0.6\n",
      "sphinxcontrib-htmlhelp               2.0.5\n",
      "sphinxcontrib-jsmath                 1.0.1\n",
      "sphinxcontrib-qthelp                 1.0.7\n",
      "sphinxcontrib-serializinghtml        1.1.10\n",
      "spyder                               5.5.3\n",
      "spyder-kernels                       2.5.1\n",
      "SQLAlchemy                           2.0.29\n",
      "sqlparse                             0.4.4\n",
      "stack-data                           0.6.2\n",
      "starlette                            0.37.2\n",
      "statsmodels                          0.14.1\n",
      "sympy                                1.12\n",
      "tabulate                             0.9.0\n",
      "tblib                                3.0.0\n",
      "tenacity                             8.2.3\n",
      "terminado                            0.18.1\n",
      "text-unidecode                       1.3\n",
      "textdistance                         4.5.0\n",
      "threadpoolctl                        3.4.0\n",
      "three-merge                          0.1.1\n",
      "thrift                               0.20.0\n",
      "thrift-sasl                          0.4.3\n",
      "tinycss2                             1.2.1\n",
      "toml                                 0.10.2\n",
      "tomli                                2.0.1\n",
      "tomlkit                              0.12.4\n",
      "toolz                                0.12.1\n",
      "tornado                              6.4\n",
      "tqdm                                 4.66.1\n",
      "traitlets                            5.14.2\n",
      "truststore                           0.8.0\n",
      "Twisted                              24.3.0\n",
      "typer                                0.12.3\n",
      "types-python-dateutil                2.9.0.20240316\n",
      "typing_extensions                    4.11.0\n",
      "typing-utils                         0.1.0\n",
      "tzdata                               2024.1\n",
      "uc-micro-py                          1.0.3\n",
      "ujson                                5.9.0\n",
      "unicodedata2                         15.1.0\n",
      "uri-template                         1.3.0\n",
      "urllib3                              2.2.1\n",
      "w3lib                                2.1.2\n",
      "watchdog                             4.0.0\n",
      "wcwidth                              0.2.13\n",
      "webcolors                            1.13\n",
      "webencodings                         0.5.1\n",
      "websocket-client                     1.7.0\n",
      "Werkzeug                             2.3.8\n",
      "whatthepatch                         1.0.5\n",
      "wheel                                0.43.0\n",
      "widgetsnbextension                   3.5.2\n",
      "wrapt                                1.16.0\n",
      "wurlitzer                            3.0.3\n",
      "xlrd                                 2.0.1\n",
      "xyzservices                          2024.4.0\n",
      "yapf                                 0.40.1\n",
      "zict                                 3.0.0\n",
      "zipp                                 3.17.0\n",
      "zope.event                           5.0\n",
      "zope.interface                       6.3\n",
      "zstandard                            0.22.0\n"
     ]
    }
   ],
   "source": [
    "!pip list"
   ]
  },
  {
   "cell_type": "code",
   "execution_count": 10,
   "metadata": {
    "tags": []
   },
   "outputs": [],
   "source": [
    "setup_dependencies_passed = True"
   ]
  },
  {
   "cell_type": "code",
   "execution_count": 11,
   "metadata": {
    "tags": []
   },
   "outputs": [
    {
     "name": "stdout",
     "output_type": "stream",
     "text": [
      "Stored 'setup_dependencies_passed' (bool)\n"
     ]
    }
   ],
   "source": [
    "%store setup_dependencies_passed"
   ]
  },
  {
   "cell_type": "code",
   "execution_count": 12,
   "metadata": {
    "tags": []
   },
   "outputs": [
    {
     "name": "stdout",
     "output_type": "stream",
     "text": [
      "Stored variables and their in-db values:\n",
      "ingest_create_athena_db_passed                        -> True\n",
      "ingest_create_athena_table_parquet_passed             -> True\n",
      "ingest_create_athena_table_tsv_passed                 -> True\n",
      "s3_private_path_tsv                                   -> 's3://sagemaker-us-east-1-691334595165/amazon-revi\n",
      "setup_dependencies_passed                             -> True\n",
      "setup_s3_bucket_passed                                -> True\n"
     ]
    }
   ],
   "source": [
    "%store"
   ]
  },
  {
   "cell_type": "markdown",
   "metadata": {},
   "source": [
    "# Release Resources"
   ]
  },
  {
   "cell_type": "code",
   "execution_count": 13,
   "metadata": {
    "tags": []
   },
   "outputs": [
    {
     "data": {
      "text/html": [
       "\n",
       "<p><b>Shutting down your kernel for this notebook to release resources.</b></p>\n",
       "<button class=\"sm-command-button\" data-commandlinker-command=\"kernelmenu:shutdown\" style=\"display:none;\">Shutdown Kernel</button>\n",
       "        \n",
       "<script>\n",
       "try {\n",
       "    els = document.getElementsByClassName(\"sm-command-button\");\n",
       "    els[0].click();\n",
       "}\n",
       "catch(err) {\n",
       "    // NoOp\n",
       "}    \n",
       "</script>\n"
      ],
      "text/plain": [
       "<IPython.core.display.HTML object>"
      ]
     },
     "metadata": {},
     "output_type": "display_data"
    }
   ],
   "source": [
    "%%html\n",
    "\n",
    "<p><b>Shutting down your kernel for this notebook to release resources.</b></p>\n",
    "<button class=\"sm-command-button\" data-commandlinker-command=\"kernelmenu:shutdown\" style=\"display:none;\">Shutdown Kernel</button>\n",
    "        \n",
    "<script>\n",
    "try {\n",
    "    els = document.getElementsByClassName(\"sm-command-button\");\n",
    "    els[0].click();\n",
    "}\n",
    "catch(err) {\n",
    "    // NoOp\n",
    "}    \n",
    "</script>"
   ]
  },
  {
   "cell_type": "code",
   "execution_count": 18,
   "metadata": {
    "tags": []
   },
   "outputs": [
    {
     "data": {
      "application/javascript": [
       "\n",
       "try {\n",
       "    Jupyter.notebook.save_checkpoint();\n",
       "    Jupyter.notebook.session.delete();\n",
       "}\n",
       "catch(err) {\n",
       "    // NoOp\n",
       "}\n"
      ],
      "text/plain": [
       "<IPython.core.display.Javascript object>"
      ]
     },
     "metadata": {},
     "output_type": "display_data"
    }
   ],
   "source": [
    "%%javascript\n",
    "\n",
    "try {\n",
    "    Jupyter.notebook.save_checkpoint();\n",
    "    Jupyter.notebook.session.delete();\n",
    "}\n",
    "catch(err) {\n",
    "    // NoOp\n",
    "}"
   ]
  }
 ],
 "metadata": {
  "availableInstances": [
   {
    "_defaultOrder": 0,
    "_isFastLaunch": true,
    "category": "General purpose",
    "gpuNum": 0,
    "hideHardwareSpecs": false,
    "memoryGiB": 4,
    "name": "ml.t3.medium",
    "vcpuNum": 2
   },
   {
    "_defaultOrder": 1,
    "_isFastLaunch": false,
    "category": "General purpose",
    "gpuNum": 0,
    "hideHardwareSpecs": false,
    "memoryGiB": 8,
    "name": "ml.t3.large",
    "vcpuNum": 2
   },
   {
    "_defaultOrder": 2,
    "_isFastLaunch": false,
    "category": "General purpose",
    "gpuNum": 0,
    "hideHardwareSpecs": false,
    "memoryGiB": 16,
    "name": "ml.t3.xlarge",
    "vcpuNum": 4
   },
   {
    "_defaultOrder": 3,
    "_isFastLaunch": false,
    "category": "General purpose",
    "gpuNum": 0,
    "hideHardwareSpecs": false,
    "memoryGiB": 32,
    "name": "ml.t3.2xlarge",
    "vcpuNum": 8
   },
   {
    "_defaultOrder": 4,
    "_isFastLaunch": true,
    "category": "General purpose",
    "gpuNum": 0,
    "hideHardwareSpecs": false,
    "memoryGiB": 8,
    "name": "ml.m5.large",
    "vcpuNum": 2
   },
   {
    "_defaultOrder": 5,
    "_isFastLaunch": false,
    "category": "General purpose",
    "gpuNum": 0,
    "hideHardwareSpecs": false,
    "memoryGiB": 16,
    "name": "ml.m5.xlarge",
    "vcpuNum": 4
   },
   {
    "_defaultOrder": 6,
    "_isFastLaunch": false,
    "category": "General purpose",
    "gpuNum": 0,
    "hideHardwareSpecs": false,
    "memoryGiB": 32,
    "name": "ml.m5.2xlarge",
    "vcpuNum": 8
   },
   {
    "_defaultOrder": 7,
    "_isFastLaunch": false,
    "category": "General purpose",
    "gpuNum": 0,
    "hideHardwareSpecs": false,
    "memoryGiB": 64,
    "name": "ml.m5.4xlarge",
    "vcpuNum": 16
   },
   {
    "_defaultOrder": 8,
    "_isFastLaunch": false,
    "category": "General purpose",
    "gpuNum": 0,
    "hideHardwareSpecs": false,
    "memoryGiB": 128,
    "name": "ml.m5.8xlarge",
    "vcpuNum": 32
   },
   {
    "_defaultOrder": 9,
    "_isFastLaunch": false,
    "category": "General purpose",
    "gpuNum": 0,
    "hideHardwareSpecs": false,
    "memoryGiB": 192,
    "name": "ml.m5.12xlarge",
    "vcpuNum": 48
   },
   {
    "_defaultOrder": 10,
    "_isFastLaunch": false,
    "category": "General purpose",
    "gpuNum": 0,
    "hideHardwareSpecs": false,
    "memoryGiB": 256,
    "name": "ml.m5.16xlarge",
    "vcpuNum": 64
   },
   {
    "_defaultOrder": 11,
    "_isFastLaunch": false,
    "category": "General purpose",
    "gpuNum": 0,
    "hideHardwareSpecs": false,
    "memoryGiB": 384,
    "name": "ml.m5.24xlarge",
    "vcpuNum": 96
   },
   {
    "_defaultOrder": 12,
    "_isFastLaunch": false,
    "category": "General purpose",
    "gpuNum": 0,
    "hideHardwareSpecs": false,
    "memoryGiB": 8,
    "name": "ml.m5d.large",
    "vcpuNum": 2
   },
   {
    "_defaultOrder": 13,
    "_isFastLaunch": false,
    "category": "General purpose",
    "gpuNum": 0,
    "hideHardwareSpecs": false,
    "memoryGiB": 16,
    "name": "ml.m5d.xlarge",
    "vcpuNum": 4
   },
   {
    "_defaultOrder": 14,
    "_isFastLaunch": false,
    "category": "General purpose",
    "gpuNum": 0,
    "hideHardwareSpecs": false,
    "memoryGiB": 32,
    "name": "ml.m5d.2xlarge",
    "vcpuNum": 8
   },
   {
    "_defaultOrder": 15,
    "_isFastLaunch": false,
    "category": "General purpose",
    "gpuNum": 0,
    "hideHardwareSpecs": false,
    "memoryGiB": 64,
    "name": "ml.m5d.4xlarge",
    "vcpuNum": 16
   },
   {
    "_defaultOrder": 16,
    "_isFastLaunch": false,
    "category": "General purpose",
    "gpuNum": 0,
    "hideHardwareSpecs": false,
    "memoryGiB": 128,
    "name": "ml.m5d.8xlarge",
    "vcpuNum": 32
   },
   {
    "_defaultOrder": 17,
    "_isFastLaunch": false,
    "category": "General purpose",
    "gpuNum": 0,
    "hideHardwareSpecs": false,
    "memoryGiB": 192,
    "name": "ml.m5d.12xlarge",
    "vcpuNum": 48
   },
   {
    "_defaultOrder": 18,
    "_isFastLaunch": false,
    "category": "General purpose",
    "gpuNum": 0,
    "hideHardwareSpecs": false,
    "memoryGiB": 256,
    "name": "ml.m5d.16xlarge",
    "vcpuNum": 64
   },
   {
    "_defaultOrder": 19,
    "_isFastLaunch": false,
    "category": "General purpose",
    "gpuNum": 0,
    "hideHardwareSpecs": false,
    "memoryGiB": 384,
    "name": "ml.m5d.24xlarge",
    "vcpuNum": 96
   },
   {
    "_defaultOrder": 20,
    "_isFastLaunch": false,
    "category": "General purpose",
    "gpuNum": 0,
    "hideHardwareSpecs": true,
    "memoryGiB": 0,
    "name": "ml.geospatial.interactive",
    "supportedImageNames": [
     "sagemaker-geospatial-v1-0"
    ],
    "vcpuNum": 0
   },
   {
    "_defaultOrder": 21,
    "_isFastLaunch": true,
    "category": "Compute optimized",
    "gpuNum": 0,
    "hideHardwareSpecs": false,
    "memoryGiB": 4,
    "name": "ml.c5.large",
    "vcpuNum": 2
   },
   {
    "_defaultOrder": 22,
    "_isFastLaunch": false,
    "category": "Compute optimized",
    "gpuNum": 0,
    "hideHardwareSpecs": false,
    "memoryGiB": 8,
    "name": "ml.c5.xlarge",
    "vcpuNum": 4
   },
   {
    "_defaultOrder": 23,
    "_isFastLaunch": false,
    "category": "Compute optimized",
    "gpuNum": 0,
    "hideHardwareSpecs": false,
    "memoryGiB": 16,
    "name": "ml.c5.2xlarge",
    "vcpuNum": 8
   },
   {
    "_defaultOrder": 24,
    "_isFastLaunch": false,
    "category": "Compute optimized",
    "gpuNum": 0,
    "hideHardwareSpecs": false,
    "memoryGiB": 32,
    "name": "ml.c5.4xlarge",
    "vcpuNum": 16
   },
   {
    "_defaultOrder": 25,
    "_isFastLaunch": false,
    "category": "Compute optimized",
    "gpuNum": 0,
    "hideHardwareSpecs": false,
    "memoryGiB": 72,
    "name": "ml.c5.9xlarge",
    "vcpuNum": 36
   },
   {
    "_defaultOrder": 26,
    "_isFastLaunch": false,
    "category": "Compute optimized",
    "gpuNum": 0,
    "hideHardwareSpecs": false,
    "memoryGiB": 96,
    "name": "ml.c5.12xlarge",
    "vcpuNum": 48
   },
   {
    "_defaultOrder": 27,
    "_isFastLaunch": false,
    "category": "Compute optimized",
    "gpuNum": 0,
    "hideHardwareSpecs": false,
    "memoryGiB": 144,
    "name": "ml.c5.18xlarge",
    "vcpuNum": 72
   },
   {
    "_defaultOrder": 28,
    "_isFastLaunch": false,
    "category": "Compute optimized",
    "gpuNum": 0,
    "hideHardwareSpecs": false,
    "memoryGiB": 192,
    "name": "ml.c5.24xlarge",
    "vcpuNum": 96
   },
   {
    "_defaultOrder": 29,
    "_isFastLaunch": true,
    "category": "Accelerated computing",
    "gpuNum": 1,
    "hideHardwareSpecs": false,
    "memoryGiB": 16,
    "name": "ml.g4dn.xlarge",
    "vcpuNum": 4
   },
   {
    "_defaultOrder": 30,
    "_isFastLaunch": false,
    "category": "Accelerated computing",
    "gpuNum": 1,
    "hideHardwareSpecs": false,
    "memoryGiB": 32,
    "name": "ml.g4dn.2xlarge",
    "vcpuNum": 8
   },
   {
    "_defaultOrder": 31,
    "_isFastLaunch": false,
    "category": "Accelerated computing",
    "gpuNum": 1,
    "hideHardwareSpecs": false,
    "memoryGiB": 64,
    "name": "ml.g4dn.4xlarge",
    "vcpuNum": 16
   },
   {
    "_defaultOrder": 32,
    "_isFastLaunch": false,
    "category": "Accelerated computing",
    "gpuNum": 1,
    "hideHardwareSpecs": false,
    "memoryGiB": 128,
    "name": "ml.g4dn.8xlarge",
    "vcpuNum": 32
   },
   {
    "_defaultOrder": 33,
    "_isFastLaunch": false,
    "category": "Accelerated computing",
    "gpuNum": 4,
    "hideHardwareSpecs": false,
    "memoryGiB": 192,
    "name": "ml.g4dn.12xlarge",
    "vcpuNum": 48
   },
   {
    "_defaultOrder": 34,
    "_isFastLaunch": false,
    "category": "Accelerated computing",
    "gpuNum": 1,
    "hideHardwareSpecs": false,
    "memoryGiB": 256,
    "name": "ml.g4dn.16xlarge",
    "vcpuNum": 64
   },
   {
    "_defaultOrder": 35,
    "_isFastLaunch": false,
    "category": "Accelerated computing",
    "gpuNum": 1,
    "hideHardwareSpecs": false,
    "memoryGiB": 61,
    "name": "ml.p3.2xlarge",
    "vcpuNum": 8
   },
   {
    "_defaultOrder": 36,
    "_isFastLaunch": false,
    "category": "Accelerated computing",
    "gpuNum": 4,
    "hideHardwareSpecs": false,
    "memoryGiB": 244,
    "name": "ml.p3.8xlarge",
    "vcpuNum": 32
   },
   {
    "_defaultOrder": 37,
    "_isFastLaunch": false,
    "category": "Accelerated computing",
    "gpuNum": 8,
    "hideHardwareSpecs": false,
    "memoryGiB": 488,
    "name": "ml.p3.16xlarge",
    "vcpuNum": 64
   },
   {
    "_defaultOrder": 38,
    "_isFastLaunch": false,
    "category": "Accelerated computing",
    "gpuNum": 8,
    "hideHardwareSpecs": false,
    "memoryGiB": 768,
    "name": "ml.p3dn.24xlarge",
    "vcpuNum": 96
   },
   {
    "_defaultOrder": 39,
    "_isFastLaunch": false,
    "category": "Memory Optimized",
    "gpuNum": 0,
    "hideHardwareSpecs": false,
    "memoryGiB": 16,
    "name": "ml.r5.large",
    "vcpuNum": 2
   },
   {
    "_defaultOrder": 40,
    "_isFastLaunch": false,
    "category": "Memory Optimized",
    "gpuNum": 0,
    "hideHardwareSpecs": false,
    "memoryGiB": 32,
    "name": "ml.r5.xlarge",
    "vcpuNum": 4
   },
   {
    "_defaultOrder": 41,
    "_isFastLaunch": false,
    "category": "Memory Optimized",
    "gpuNum": 0,
    "hideHardwareSpecs": false,
    "memoryGiB": 64,
    "name": "ml.r5.2xlarge",
    "vcpuNum": 8
   },
   {
    "_defaultOrder": 42,
    "_isFastLaunch": false,
    "category": "Memory Optimized",
    "gpuNum": 0,
    "hideHardwareSpecs": false,
    "memoryGiB": 128,
    "name": "ml.r5.4xlarge",
    "vcpuNum": 16
   },
   {
    "_defaultOrder": 43,
    "_isFastLaunch": false,
    "category": "Memory Optimized",
    "gpuNum": 0,
    "hideHardwareSpecs": false,
    "memoryGiB": 256,
    "name": "ml.r5.8xlarge",
    "vcpuNum": 32
   },
   {
    "_defaultOrder": 44,
    "_isFastLaunch": false,
    "category": "Memory Optimized",
    "gpuNum": 0,
    "hideHardwareSpecs": false,
    "memoryGiB": 384,
    "name": "ml.r5.12xlarge",
    "vcpuNum": 48
   },
   {
    "_defaultOrder": 45,
    "_isFastLaunch": false,
    "category": "Memory Optimized",
    "gpuNum": 0,
    "hideHardwareSpecs": false,
    "memoryGiB": 512,
    "name": "ml.r5.16xlarge",
    "vcpuNum": 64
   },
   {
    "_defaultOrder": 46,
    "_isFastLaunch": false,
    "category": "Memory Optimized",
    "gpuNum": 0,
    "hideHardwareSpecs": false,
    "memoryGiB": 768,
    "name": "ml.r5.24xlarge",
    "vcpuNum": 96
   },
   {
    "_defaultOrder": 47,
    "_isFastLaunch": false,
    "category": "Accelerated computing",
    "gpuNum": 1,
    "hideHardwareSpecs": false,
    "memoryGiB": 16,
    "name": "ml.g5.xlarge",
    "vcpuNum": 4
   },
   {
    "_defaultOrder": 48,
    "_isFastLaunch": false,
    "category": "Accelerated computing",
    "gpuNum": 1,
    "hideHardwareSpecs": false,
    "memoryGiB": 32,
    "name": "ml.g5.2xlarge",
    "vcpuNum": 8
   },
   {
    "_defaultOrder": 49,
    "_isFastLaunch": false,
    "category": "Accelerated computing",
    "gpuNum": 1,
    "hideHardwareSpecs": false,
    "memoryGiB": 64,
    "name": "ml.g5.4xlarge",
    "vcpuNum": 16
   },
   {
    "_defaultOrder": 50,
    "_isFastLaunch": false,
    "category": "Accelerated computing",
    "gpuNum": 1,
    "hideHardwareSpecs": false,
    "memoryGiB": 128,
    "name": "ml.g5.8xlarge",
    "vcpuNum": 32
   },
   {
    "_defaultOrder": 51,
    "_isFastLaunch": false,
    "category": "Accelerated computing",
    "gpuNum": 1,
    "hideHardwareSpecs": false,
    "memoryGiB": 256,
    "name": "ml.g5.16xlarge",
    "vcpuNum": 64
   },
   {
    "_defaultOrder": 52,
    "_isFastLaunch": false,
    "category": "Accelerated computing",
    "gpuNum": 4,
    "hideHardwareSpecs": false,
    "memoryGiB": 192,
    "name": "ml.g5.12xlarge",
    "vcpuNum": 48
   },
   {
    "_defaultOrder": 53,
    "_isFastLaunch": false,
    "category": "Accelerated computing",
    "gpuNum": 4,
    "hideHardwareSpecs": false,
    "memoryGiB": 384,
    "name": "ml.g5.24xlarge",
    "vcpuNum": 96
   },
   {
    "_defaultOrder": 54,
    "_isFastLaunch": false,
    "category": "Accelerated computing",
    "gpuNum": 8,
    "hideHardwareSpecs": false,
    "memoryGiB": 768,
    "name": "ml.g5.48xlarge",
    "vcpuNum": 192
   },
   {
    "_defaultOrder": 55,
    "_isFastLaunch": false,
    "category": "Accelerated computing",
    "gpuNum": 8,
    "hideHardwareSpecs": false,
    "memoryGiB": 1152,
    "name": "ml.p4d.24xlarge",
    "vcpuNum": 96
   },
   {
    "_defaultOrder": 56,
    "_isFastLaunch": false,
    "category": "Accelerated computing",
    "gpuNum": 8,
    "hideHardwareSpecs": false,
    "memoryGiB": 1152,
    "name": "ml.p4de.24xlarge",
    "vcpuNum": 96
   },
   {
    "_defaultOrder": 57,
    "_isFastLaunch": false,
    "category": "Accelerated computing",
    "gpuNum": 0,
    "hideHardwareSpecs": false,
    "memoryGiB": 32,
    "name": "ml.trn1.2xlarge",
    "vcpuNum": 8
   },
   {
    "_defaultOrder": 58,
    "_isFastLaunch": false,
    "category": "Accelerated computing",
    "gpuNum": 0,
    "hideHardwareSpecs": false,
    "memoryGiB": 512,
    "name": "ml.trn1.32xlarge",
    "vcpuNum": 128
   },
   {
    "_defaultOrder": 59,
    "_isFastLaunch": false,
    "category": "Accelerated computing",
    "gpuNum": 0,
    "hideHardwareSpecs": false,
    "memoryGiB": 512,
    "name": "ml.trn1n.32xlarge",
    "vcpuNum": 128
   }
  ],
  "kernelspec": {
   "display_name": "Python 3 (Data Science 3.0)",
   "language": "python",
   "name": "python3__SAGEMAKER_INTERNAL__arn:aws:sagemaker:us-east-1:081325390199:image/sagemaker-data-science-310-v1"
  },
  "language_info": {
   "codemirror_mode": {
    "name": "ipython",
    "version": 3
   },
   "file_extension": ".py",
   "mimetype": "text/x-python",
   "name": "python",
   "nbconvert_exporter": "python",
   "pygments_lexer": "ipython3",
   "version": "3.10.6"
  }
 },
 "nbformat": 4,
 "nbformat_minor": 4
}
