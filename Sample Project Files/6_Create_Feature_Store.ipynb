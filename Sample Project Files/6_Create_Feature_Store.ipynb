{
 "cells": [
  {
   "cell_type": "markdown",
   "id": "70e0ce3d-c2c2-4359-82ea-4d625bf6933c",
   "metadata": {},
   "source": [
    "## 6. Create Feature Store\n",
    "\n",
    "Code learned and followed from AAI 540 Lab 3"
   ]
  },
  {
   "cell_type": "code",
   "execution_count": 2,
   "id": "01b083bd-db66-4648-a308-3d7ffcc60c45",
   "metadata": {
    "tags": []
   },
   "outputs": [
    {
     "name": "stdout",
     "output_type": "stream",
     "text": [
      "Requirement already satisfied: pip in /opt/conda/lib/python3.10/site-packages (24.0)\n",
      "Collecting pip\n",
      "  Using cached pip-24.2-py3-none-any.whl.metadata (3.6 kB)\n",
      "Using cached pip-24.2-py3-none-any.whl (1.8 MB)\n",
      "Installing collected packages: pip\n",
      "  Attempting uninstall: pip\n",
      "    Found existing installation: pip 24.0\n",
      "    Uninstalling pip-24.0:\n",
      "      Successfully uninstalled pip-24.0\n",
      "Successfully installed pip-24.2\n",
      "\u001b[33mWARNING: Running pip as the 'root' user can result in broken permissions and conflicting behaviour with the system package manager. It is recommended to use a virtual environment instead: https://pip.pypa.io/warnings/venv\u001b[0m\u001b[33m\n",
      "\u001b[0m"
     ]
    }
   ],
   "source": [
    "!pip install --upgrade pip"
   ]
  },
  {
   "cell_type": "code",
   "execution_count": 3,
   "id": "e1509d5d-9092-4534-b4d0-8a247afa5c15",
   "metadata": {
    "tags": []
   },
   "outputs": [
    {
     "name": "stdout",
     "output_type": "stream",
     "text": [
      "\u001b[33mWARNING: Running pip as the 'root' user can result in broken permissions and conflicting behaviour with the system package manager, possibly rendering your system unusable.It is recommended to use a virtual environment instead: https://pip.pypa.io/warnings/venv. Use the --root-user-action option if you know what you are doing and want to suppress this warning.\u001b[0m\u001b[33m\n",
      "\u001b[0m"
     ]
    }
   ],
   "source": [
    "!pip install -q PyAthena"
   ]
  },
  {
   "cell_type": "code",
   "execution_count": 4,
   "id": "a668f003-8c49-4f80-963d-1c16f48c9d3d",
   "metadata": {
    "tags": []
   },
   "outputs": [
    {
     "name": "stdout",
     "output_type": "stream",
     "text": [
      "sagemaker.config INFO - Not applying SDK defaults from location: /etc/xdg/sagemaker/config.yaml\n",
      "sagemaker.config INFO - Not applying SDK defaults from location: /root/.config/sagemaker/config.yaml\n",
      "Requirement already satisfied: boto3>1.17.21 in /opt/conda/lib/python3.10/site-packages (1.34.84)\n",
      "Requirement already satisfied: botocore<1.35.0,>=1.34.84 in /opt/conda/lib/python3.10/site-packages (from boto3>1.17.21) (1.34.84)\n",
      "Requirement already satisfied: jmespath<2.0.0,>=0.7.1 in /opt/conda/lib/python3.10/site-packages (from boto3>1.17.21) (1.0.1)\n",
      "Requirement already satisfied: s3transfer<0.11.0,>=0.10.0 in /opt/conda/lib/python3.10/site-packages (from boto3>1.17.21) (0.10.1)\n",
      "Requirement already satisfied: python-dateutil<3.0.0,>=2.1 in /opt/conda/lib/python3.10/site-packages (from botocore<1.35.0,>=1.34.84->boto3>1.17.21) (2.9.0)\n",
      "Requirement already satisfied: urllib3!=2.2.0,<3,>=1.25.4 in /opt/conda/lib/python3.10/site-packages (from botocore<1.35.0,>=1.34.84->boto3>1.17.21) (2.2.1)\n",
      "Requirement already satisfied: six>=1.5 in /opt/conda/lib/python3.10/site-packages (from python-dateutil<3.0.0,>=2.1->botocore<1.35.0,>=1.34.84->boto3>1.17.21) (1.16.0)\n",
      "\u001b[33mWARNING: Running pip as the 'root' user can result in broken permissions and conflicting behaviour with the system package manager, possibly rendering your system unusable.It is recommended to use a virtual environment instead: https://pip.pypa.io/warnings/venv. Use the --root-user-action option if you know what you are doing and want to suppress this warning.\u001b[0m\u001b[33m\n",
      "\u001b[0mNote: you may need to restart the kernel to use updated packages.\n"
     ]
    }
   ],
   "source": [
    "import boto3\n",
    "import sagemaker\n",
    "\n",
    "original_boto3_version = boto3.__version__\n",
    "%pip install 'boto3>1.17.21'"
   ]
  },
  {
   "cell_type": "code",
   "execution_count": 38,
   "id": "d2f8f0fe-076c-4235-9c15-b83140ca0377",
   "metadata": {
    "tags": []
   },
   "outputs": [],
   "source": [
    "from sagemaker.session import Session\n",
    "\n",
    "region = boto3.Session().region_name\n",
    "\n",
    "boto_session = boto3.Session(region_name=region)\n",
    "\n",
    "sagemaker_client = boto_session.client(service_name=\"sagemaker\", region_name=region)\n",
    "featurestore_runtime = boto_session.client(\n",
    "    service_name=\"sagemaker-featurestore-runtime\", region_name=region\n",
    ")\n",
    "\n",
    "feature_store_session = Session(\n",
    "    boto_session=boto_session,\n",
    "    sagemaker_client=sagemaker_client,\n",
    "    sagemaker_featurestore_runtime_client=featurestore_runtime,\n",
    ")"
   ]
  },
  {
   "cell_type": "code",
   "execution_count": 39,
   "id": "1614b19d-2199-48a5-8c3c-745099693986",
   "metadata": {
    "tags": []
   },
   "outputs": [
    {
     "name": "stdout",
     "output_type": "stream",
     "text": [
      "Default S3 Bucket: sagemaker-us-east-1-807494057176\n",
      "Prefix: sagemaker-featurestore-predictive-maintenance\n"
     ]
    }
   ],
   "source": [
    "# Declare bucket name and project-specific prefix\n",
    "default_s3_bucket_name = feature_store_session.default_bucket()\n",
    "prefix = \"sagemaker-featurestore-predictive-maintenance\"\n",
    "\n",
    "# Print the default bucket name and prefix\n",
    "print(f\"Default S3 Bucket: {default_s3_bucket_name}\")\n",
    "print(f\"Prefix: {prefix}\")"
   ]
  },
  {
   "cell_type": "code",
   "execution_count": 40,
   "id": "715cd551-02c6-4a59-82c2-dd601947ee43",
   "metadata": {
    "tags": []
   },
   "outputs": [
    {
     "name": "stdout",
     "output_type": "stream",
     "text": [
      "arn:aws:iam::807494057176:role/LabRole\n"
     ]
    }
   ],
   "source": [
    "from sagemaker import get_execution_role\n",
    "\n",
    "# call for the role information.\n",
    "role = get_execution_role()\n",
    "print(role)"
   ]
  },
  {
   "cell_type": "code",
   "execution_count": 41,
   "id": "e154872a-5434-421b-9547-898d7802224d",
   "metadata": {
    "tags": []
   },
   "outputs": [],
   "source": [
    "from pyathena import connect"
   ]
  },
  {
   "cell_type": "code",
   "execution_count": 42,
   "id": "a1a98e98-49b2-4479-af46-79e65b63d5fd",
   "metadata": {
    "tags": []
   },
   "outputs": [
    {
     "name": "stdout",
     "output_type": "stream",
     "text": [
      "Connected to S3 bucket: sagemaker-us-east-1-807494057176\n",
      "Using execution role: arn:aws:iam::807494057176:role/LabRole\n",
      "Using region: us-east-1\n"
     ]
    }
   ],
   "source": [
    "import pandas as pd\n",
    "sess = sagemaker.Session()\n",
    "bucket = sess.default_bucket()\n",
    "role = sagemaker.get_execution_role()\n",
    "region = boto3.Session().region_name\n",
    "\n",
    "# Print some information\n",
    "print(f\"Connected to S3 bucket: {bucket}\")\n",
    "print(f\"Using execution role: {role}\")\n",
    "print(f\"Using region: {region}\")"
   ]
  },
  {
   "cell_type": "code",
   "execution_count": 52,
   "id": "2d6170e2-c51c-4012-b70e-25d0ad834d1a",
   "metadata": {
    "tags": []
   },
   "outputs": [],
   "source": [
    "# Set S3 path to Parquet data\n",
    "s3_path_parquet = \"s3://{}/AAI-540_Predictive-Maintenance-for-Pharmaceutical-Manufacturing-Equipment/data/parquet\".format(bucket)\n",
    "\n",
    "# Set Athena parameters\n",
    "database_name = \"dsoawsfp\"\n",
    "table_name_csv = \"predictive_maintenance_csv\"\n",
    "table_name_parquet = \"predictive_maintenance_parquet\""
   ]
  },
  {
   "cell_type": "code",
   "execution_count": 53,
   "id": "1f854468-0e01-4d89-8b2d-d9d9c4a0a296",
   "metadata": {
    "tags": []
   },
   "outputs": [],
   "source": [
    "# Set S3 staging directory -- this is a temporary directory used for Athena queries\n",
    "s3_staging_dir = \"s3://{0}/athena/staging\".format(bucket)"
   ]
  },
  {
   "cell_type": "code",
   "execution_count": 54,
   "id": "27529a7e-2274-4393-8e5c-2936060bbc20",
   "metadata": {
    "tags": []
   },
   "outputs": [
    {
     "name": "stdout",
     "output_type": "stream",
     "text": [
      "Default S3 Bucket:  sagemaker-us-east-1-807494057176\n",
      "S3 Staging Directory:  s3://sagemaker-us-east-1-807494057176/athena/staging\n"
     ]
    }
   ],
   "source": [
    "# Check the default bucket\n",
    "print(\"Default S3 Bucket: \", bucket)\n",
    "\n",
    "# Print the S3 staging directory path\n",
    "print(\"S3 Staging Directory: \", s3_staging_dir)"
   ]
  },
  {
   "cell_type": "code",
   "execution_count": 55,
   "id": "e5f46898-4f89-4f6e-be06-29774acd31a9",
   "metadata": {
    "tags": []
   },
   "outputs": [],
   "source": [
    "conn = connect(region_name=region, s3_staging_dir=s3_staging_dir)"
   ]
  },
  {
   "cell_type": "code",
   "execution_count": 56,
   "id": "01fde548-777b-4456-989e-8beae2fb684c",
   "metadata": {
    "tags": []
   },
   "outputs": [
    {
     "name": "stderr",
     "output_type": "stream",
     "text": [
      "/tmp/ipykernel_138/2785210363.py:8: UserWarning: pandas only supports SQLAlchemy connectable (engine/connection) or database string URI or sqlite3 DBAPI2 connection. Other DBAPI2 objects are not tested. Please consider using SQLAlchemy.\n",
      "  df_result = pd.read_sql(statement, conn)\n"
     ]
    },
    {
     "name": "stdout",
     "output_type": "stream",
     "text": [
      "        date    device  failure      metric1  metric2  metric3  metric4  \\\n",
      "0 2015-01-01  S1F01085        0  215630672.0     55.0      0.0     52.0   \n",
      "1 2015-01-01  S1F0166B        0   61370680.0      0.0      3.0      0.0   \n",
      "2 2015-01-01  S1F01E6Y        0  173295968.0      0.0      0.0      0.0   \n",
      "3 2015-01-01  S1F01JE0        0   79694024.0      0.0      0.0      0.0   \n",
      "4 2015-01-01  S1F01R2B        0  135970480.0      0.0      0.0      0.0   \n",
      "\n",
      "   metric5   metric6  metric7  metric8  metric9  \n",
      "0      6.0  407438.0      0.0      0.0      7.0  \n",
      "1      6.0  403174.0      0.0      0.0      0.0  \n",
      "2     12.0  237394.0      0.0      0.0      0.0  \n",
      "3      6.0  410186.0      0.0      0.0      0.0  \n",
      "4     15.0  313173.0      0.0      0.0      3.0  \n"
     ]
    }
   ],
   "source": [
    "# Define the SQL statement with casting to timestamp\n",
    "statement = \"\"\"SELECT * FROM {}.{}\n",
    "    WHERE date >= CAST('2015-01-01' AS timestamp)\n",
    "    AND date <= CAST('2015-11-02' AS timestamp)\n",
    "    LIMIT 100\"\"\".format(database_name, table_name_parquet)\n",
    "\n",
    "# Execute the query using pandas\n",
    "df_result = pd.read_sql(statement, conn)\n",
    "\n",
    "# Display the first few rows of the result\n",
    "print(df_result.head())\n"
   ]
  },
  {
   "cell_type": "code",
   "execution_count": 57,
   "id": "f2c8902a-d43a-48f9-a905-f1260c90c5f6",
   "metadata": {
    "tags": []
   },
   "outputs": [
    {
     "name": "stderr",
     "output_type": "stream",
     "text": [
      "/tmp/ipykernel_138/1319936516.py:2: UserWarning: pandas only supports SQLAlchemy connectable (engine/connection) or database string URI or sqlite3 DBAPI2 connection. Other DBAPI2 objects are not tested. Please consider using SQLAlchemy.\n",
      "  predictive_maintenance_df = pd.read_sql(statement, conn)\n"
     ]
    },
    {
     "name": "stdout",
     "output_type": "stream",
     "text": [
      "        date    device  failure      metric1  metric2  metric3  metric4  \\\n",
      "0 2015-01-01  S1F01085        0  215630672.0     55.0      0.0     52.0   \n",
      "1 2015-01-01  S1F0166B        0   61370680.0      0.0      3.0      0.0   \n",
      "2 2015-01-01  S1F01E6Y        0  173295968.0      0.0      0.0      0.0   \n",
      "3 2015-01-01  S1F01JE0        0   79694024.0      0.0      0.0      0.0   \n",
      "4 2015-01-01  S1F01R2B        0  135970480.0      0.0      0.0      0.0   \n",
      "\n",
      "   metric5   metric6  metric7  metric8  metric9  \n",
      "0      6.0  407438.0      0.0      0.0      7.0  \n",
      "1      6.0  403174.0      0.0      0.0      0.0  \n",
      "2     12.0  237394.0      0.0      0.0      0.0  \n",
      "3      6.0  410186.0      0.0      0.0      0.0  \n",
      "4     15.0  313173.0      0.0      0.0      3.0  \n"
     ]
    }
   ],
   "source": [
    "# Execute the query using pandas and Athena connection\n",
    "predictive_maintenance_df = pd.read_sql(statement, conn)\n",
    "\n",
    "# Display the first few rows of the result\n",
    "print(predictive_maintenance_df.head())"
   ]
  },
  {
   "cell_type": "code",
   "execution_count": 58,
   "id": "de9da7d0-5f50-4bdf-80be-5f376071c661",
   "metadata": {
    "tags": []
   },
   "outputs": [],
   "source": [
    "# # Convert the 'date' column to string\n",
    "# predictive_maintenance_df['date'] = predictive_maintenance_df['date'].astype(str)\n",
    "\n",
    "# # Display the dataframe\n",
    "# predictive_maintenance_df"
   ]
  },
  {
   "cell_type": "markdown",
   "id": "cb2d7e2f-c03f-4ff0-97d1-702763d465fa",
   "metadata": {},
   "source": [
    "### Define FeatureGroups"
   ]
  },
  {
   "cell_type": "code",
   "execution_count": 59,
   "id": "679b26e4-3121-4c97-8592-3b6e78474700",
   "metadata": {
    "tags": []
   },
   "outputs": [
    {
     "name": "stdout",
     "output_type": "stream",
     "text": [
      "predictive-maintenance-feature-group-16-16-39-45\n"
     ]
    }
   ],
   "source": [
    "from time import gmtime, strftime, sleep\n",
    "\n",
    "# Define the name for your predictive maintenance feature group\n",
    "predictive_maintenance_feature_group_name = \"predictive-maintenance-feature-group-\" + strftime(\"%d-%H-%M-%S\", gmtime())\n",
    "\n",
    "# Print the feature group name to confirm\n",
    "print(predictive_maintenance_feature_group_name)"
   ]
  },
  {
   "cell_type": "code",
   "execution_count": 60,
   "id": "8d3e6388-5e33-409b-a623-2fc6473ebfcd",
   "metadata": {
    "tags": []
   },
   "outputs": [
    {
     "name": "stdout",
     "output_type": "stream",
     "text": [
      "Feature Group object created: FeatureGroup(name='predictive-maintenance-feature-group-16-16-39-45', sagemaker_session=<sagemaker.session.Session object at 0x7fc8896a7d30>, feature_definitions=[])\n"
     ]
    }
   ],
   "source": [
    "from sagemaker.feature_store.feature_group import FeatureGroup\n",
    "\n",
    "# Create the FeatureGroup object with specific name\n",
    "predictive_maintenance_feature_group = FeatureGroup(\n",
    "    name=predictive_maintenance_feature_group_name,  # feature group name\n",
    "    sagemaker_session=feature_store_session  # session set up before\n",
    ")\n",
    "\n",
    "# Print to verify the setup\n",
    "print(\"Feature Group object created:\", predictive_maintenance_feature_group)\n"
   ]
  },
  {
   "cell_type": "code",
   "execution_count": 61,
   "id": "92dcc6c8-60f6-4412-9100-829d2939ccb3",
   "metadata": {
    "tags": []
   },
   "outputs": [
    {
     "name": "stdout",
     "output_type": "stream",
     "text": [
      "     device  failure   metric1   metric2   metric3   metric4   metric5  \\\n",
      "0 -1.714816      0.0  1.417342 -0.246443 -0.110115  0.171636 -0.332573   \n",
      "1 -1.680173      0.0 -0.763582 -0.268246 -0.108906 -0.219472 -0.332573   \n",
      "2 -1.645531      0.0  0.818815 -0.268246 -0.110115 -0.219472 -0.015333   \n",
      "3 -1.610888      0.0 -0.504527 -0.268246 -0.110115 -0.219472 -0.332573   \n",
      "4 -1.576245      0.0  0.291108 -0.268246 -0.110115 -0.219472  0.143287   \n",
      "\n",
      "    metric6   metric7   metric8  ...  metric3_log  metric4_log  metric7_log  \\\n",
      "0  1.259997 -0.132039 -0.132039  ...    -0.309358     1.990467    -0.217197   \n",
      "1  1.204178 -0.132039 -0.132039  ...     0.551067    -0.552496    -0.217197   \n",
      "2 -0.965980 -0.132039 -0.132039  ...    -0.309358    -0.552496    -0.217197   \n",
      "3  1.295970 -0.132039 -0.132039  ...    -0.309358    -0.552496    -0.217197   \n",
      "4  0.026012 -0.132039 -0.132039  ...    -0.309358    -0.552496    -0.217197   \n",
      "\n",
      "   metric8_log  metric9_log  metric1_mean  metric5_mean  metric6_mean  \\\n",
      "0    -0.217197     0.579704      1.417342     -0.332573      1.259997   \n",
      "1    -0.217197    -0.538291     -0.763582     -0.332573      1.204178   \n",
      "2    -0.217197    -0.538291      0.818815     -0.015333     -0.965980   \n",
      "3    -0.217197    -0.538291     -0.504527     -0.332573      1.295970   \n",
      "4    -0.217197     0.207039      0.291108      0.143287      0.026012   \n",
      "\n",
      "      EventTime  RecordId  \n",
      "0  1.729097e+09         0  \n",
      "1  1.729097e+09         1  \n",
      "2  1.729097e+09         2  \n",
      "3  1.729097e+09         3  \n",
      "4  1.729097e+09         4  \n",
      "\n",
      "[5 rows x 26 columns]\n"
     ]
    }
   ],
   "source": [
    "import pandas as pd\n",
    "import numpy as np\n",
    "from sklearn.preprocessing import StandardScaler\n",
    "import time\n",
    "\n",
    "def clean_feature_eng(df):\n",
    "    # Convert 'date' to datetime\n",
    "    df['date'] = pd.to_datetime(df['date'])\n",
    "    \n",
    "    # Extract time-based features\n",
    "    df['year'] = df['date'].dt.year\n",
    "    df['month'] = df['date'].dt.month\n",
    "    df['day'] = df['date'].dt.day\n",
    "    df['dayofweek'] = df['date'].dt.dayofweek\n",
    "    \n",
    "    # Handle highly skewed metrics using log transformation\n",
    "    skewed_metrics = ['metric2', 'metric3', 'metric4', 'metric7', 'metric8', 'metric9']\n",
    "    for metric in skewed_metrics:\n",
    "        df[f'{metric}_log'] = np.log1p(df[metric])\n",
    "    \n",
    "    # Create simple aggregated features per device\n",
    "    device_aggs = df.groupby('device').agg({\n",
    "        'metric1': ['mean'],\n",
    "        'metric5': ['mean'],\n",
    "        'metric6': ['mean']\n",
    "    })\n",
    "    device_aggs.columns = ['_'.join(col).strip() for col in device_aggs.columns.values]\n",
    "    \n",
    "    # Merge aggregated features back to the main dataframe\n",
    "    df = df.merge(device_aggs, on='device', how='left')\n",
    "    \n",
    "    # Encode categorical variables (device in this case)\n",
    "    df['device'] = pd.factorize(df['device'])[0]\n",
    "    \n",
    "    # Normalize numeric columns using StandardScaler\n",
    "    scaler = StandardScaler()\n",
    "    numeric_cols = df.select_dtypes(include=['float64', 'int64']).columns\n",
    "    df[numeric_cols] = scaler.fit_transform(df[numeric_cols])\n",
    "    \n",
    "    # Drop the original 'date' column\n",
    "    df = df.drop('date', axis=1)\n",
    "    \n",
    "    # Add EventTime and RecordId for feature store ingestion\n",
    "    current_time_sec = int(round(time.time()))\n",
    "    df['EventTime'] = pd.Series([current_time_sec] * len(df), dtype='float64')\n",
    "    df['RecordId'] = df.index.astype(str)\n",
    "    \n",
    "    return df\n",
    "\n",
    "# Example of using the function\n",
    "# df_result is your loaded dataset\n",
    "cleaned_df = clean_feature_eng(df_result)\n",
    "\n",
    "# Now `cleaned_df` can be ingested into SageMaker Feature Store\n",
    "print(cleaned_df.head())"
   ]
  },
  {
   "cell_type": "code",
   "execution_count": 30,
   "id": "a9cf8f3f-1a85-4be1-bab7-9c1b447050e5",
   "metadata": {
    "tags": []
   },
   "outputs": [
    {
     "name": "stdout",
     "output_type": "stream",
     "text": [
      "Dataframe Info:\n",
      "<class 'pandas.core.frame.DataFrame'>\n",
      "RangeIndex: 100 entries, 0 to 99\n",
      "Data columns (total 26 columns):\n",
      " #   Column        Non-Null Count  Dtype  \n",
      "---  ------        --------------  -----  \n",
      " 0   device        100 non-null    float64\n",
      " 1   failure       100 non-null    float64\n",
      " 2   metric1       100 non-null    float64\n",
      " 3   metric2       100 non-null    float64\n",
      " 4   metric3       100 non-null    float64\n",
      " 5   metric4       100 non-null    float64\n",
      " 6   metric5       100 non-null    float64\n",
      " 7   metric6       100 non-null    float64\n",
      " 8   metric7       100 non-null    float64\n",
      " 9   metric8       100 non-null    float64\n",
      " 10  metric9       100 non-null    float64\n",
      " 11  year          100 non-null    int32  \n",
      " 12  month         100 non-null    int32  \n",
      " 13  day           100 non-null    int32  \n",
      " 14  dayofweek     100 non-null    int32  \n",
      " 15  metric2_log   100 non-null    float64\n",
      " 16  metric3_log   100 non-null    float64\n",
      " 17  metric4_log   100 non-null    float64\n",
      " 18  metric7_log   100 non-null    float64\n",
      " 19  metric8_log   100 non-null    float64\n",
      " 20  metric9_log   100 non-null    float64\n",
      " 21  metric1_mean  100 non-null    float64\n",
      " 22  metric5_mean  100 non-null    float64\n",
      " 23  metric6_mean  100 non-null    float64\n",
      " 24  EventTime     100 non-null    float64\n",
      " 25  RecordId      100 non-null    object \n",
      "dtypes: float64(21), int32(4), object(1)\n",
      "memory usage: 18.9+ KB\n",
      "None\n",
      "\n",
      "Missing values:\n",
      "device          0\n",
      "failure         0\n",
      "metric1         0\n",
      "metric2         0\n",
      "metric3         0\n",
      "metric4         0\n",
      "metric5         0\n",
      "metric6         0\n",
      "metric7         0\n",
      "metric8         0\n",
      "metric9         0\n",
      "year            0\n",
      "month           0\n",
      "day             0\n",
      "dayofweek       0\n",
      "metric2_log     0\n",
      "metric3_log     0\n",
      "metric4_log     0\n",
      "metric7_log     0\n",
      "metric8_log     0\n",
      "metric9_log     0\n",
      "metric1_mean    0\n",
      "metric5_mean    0\n",
      "metric6_mean    0\n",
      "EventTime       0\n",
      "RecordId        0\n",
      "dtype: int64\n",
      "\n",
      "First few rows:\n",
      "     device  failure   metric1   metric2   metric3   metric4   metric5  \\\n",
      "0 -1.714816      0.0  1.417342 -0.246443 -0.110115  0.171636 -0.332573   \n",
      "1 -1.680173      0.0 -0.763582 -0.268246 -0.108906 -0.219472 -0.332573   \n",
      "2 -1.645531      0.0  0.818815 -0.268246 -0.110115 -0.219472 -0.015333   \n",
      "3 -1.610888      0.0 -0.504527 -0.268246 -0.110115 -0.219472 -0.332573   \n",
      "4 -1.576245      0.0  0.291108 -0.268246 -0.110115 -0.219472  0.143287   \n",
      "\n",
      "    metric6   metric7   metric8  ...  metric3_log  metric4_log  metric7_log  \\\n",
      "0  1.259997 -0.132039 -0.132039  ...    -0.309358     1.990467    -0.217197   \n",
      "1  1.204178 -0.132039 -0.132039  ...     0.551067    -0.552496    -0.217197   \n",
      "2 -0.965980 -0.132039 -0.132039  ...    -0.309358    -0.552496    -0.217197   \n",
      "3  1.295970 -0.132039 -0.132039  ...    -0.309358    -0.552496    -0.217197   \n",
      "4  0.026012 -0.132039 -0.132039  ...    -0.309358    -0.552496    -0.217197   \n",
      "\n",
      "   metric8_log  metric9_log  metric1_mean  metric5_mean  metric6_mean  \\\n",
      "0    -0.217197     0.579704      1.417342     -0.332573      1.259997   \n",
      "1    -0.217197    -0.538291     -0.763582     -0.332573      1.204178   \n",
      "2    -0.217197    -0.538291      0.818815     -0.015333     -0.965980   \n",
      "3    -0.217197    -0.538291     -0.504527     -0.332573      1.295970   \n",
      "4    -0.217197     0.207039      0.291108      0.143287      0.026012   \n",
      "\n",
      "      EventTime  RecordId  \n",
      "0  1.729096e+09         0  \n",
      "1  1.729096e+09         1  \n",
      "2  1.729096e+09         2  \n",
      "3  1.729096e+09         3  \n",
      "4  1.729096e+09         4  \n",
      "\n",
      "[5 rows x 26 columns]\n"
     ]
    }
   ],
   "source": [
    "df_engineered = clean_feature_eng(df_result)  # Assuming df_result is your dataset\n",
    "\n",
    "# Verify the results\n",
    "print(\"Dataframe Info:\")\n",
    "print(df_engineered.info())  # Check the structure and datatypes\n",
    "\n",
    "print(\"\\nMissing values:\")\n",
    "print(df_engineered.isnull().sum())  # Check for missing values in the transformed dataset\n",
    "\n",
    "print(\"\\nFirst few rows:\")\n",
    "print(df_engineered.head())  # Display the first few rows of the processed dataframe"
   ]
  },
  {
   "cell_type": "code",
   "execution_count": 31,
   "id": "17296597-6446-4635-b4f1-8f457f649c7e",
   "metadata": {
    "tags": []
   },
   "outputs": [
    {
     "name": "stdout",
     "output_type": "stream",
     "text": [
      "      EventTime RecordId\n",
      "0  1.729096e+09        0\n",
      "1  1.729096e+09        1\n",
      "2  1.729096e+09        2\n",
      "3  1.729096e+09        3\n",
      "4  1.729096e+09        4\n"
     ]
    }
   ],
   "source": [
    "import time\n",
    "\n",
    "# Get the current time in seconds\n",
    "current_time_sec = int(round(time.time()))\n",
    "\n",
    "# Add EventTime as the current timestamp (same for all rows)\n",
    "df_engineered['EventTime'] = pd.Series([current_time_sec] * len(df_engineered), dtype='float64')\n",
    "\n",
    "# Add RecordId by converting the index of the dataframe to a string\n",
    "df_engineered['RecordId'] = df_engineered.index.astype(str)\n",
    "\n",
    "# Display the dataframe with EventTime and RecordId\n",
    "print(df_engineered[['EventTime', 'RecordId']].head())"
   ]
  },
  {
   "cell_type": "code",
   "execution_count": 37,
   "id": "072920a2-7b60-4a13-b5de-23a74fb260d8",
   "metadata": {
    "tags": []
   },
   "outputs": [
    {
     "ename": "NameError",
     "evalue": "name 'default_bucket' is not defined",
     "output_type": "error",
     "traceback": [
      "\u001b[0;31m---------------------------------------------------------------------------\u001b[0m",
      "\u001b[0;31mNameError\u001b[0m                                 Traceback (most recent call last)",
      "Cell \u001b[0;32mIn[37], line 13\u001b[0m\n\u001b[1;32m      9\u001b[0m     \u001b[38;5;28mprint\u001b[39m(\u001b[38;5;124mf\u001b[39m\u001b[38;5;124m\"\u001b[39m\u001b[38;5;124mFeatureGroup \u001b[39m\u001b[38;5;132;01m{\u001b[39;00mfeature_group\u001b[38;5;241m.\u001b[39mname\u001b[38;5;132;01m}\u001b[39;00m\u001b[38;5;124m successfully created.\u001b[39m\u001b[38;5;124m\"\u001b[39m)\n\u001b[1;32m     11\u001b[0m \u001b[38;5;66;03m# Create Feature Groups \u001b[39;00m\n\u001b[1;32m     12\u001b[0m device_feature_group\u001b[38;5;241m.\u001b[39mcreate(\n\u001b[0;32m---> 13\u001b[0m     s3_uri\u001b[38;5;241m=\u001b[39m\u001b[38;5;124mf\u001b[39m\u001b[38;5;124m\"\u001b[39m\u001b[38;5;124ms3://\u001b[39m\u001b[38;5;132;01m{\u001b[39;00m\u001b[43mdefault_bucket\u001b[49m\u001b[38;5;132;01m}\u001b[39;00m\u001b[38;5;124m/sagemaker-featurestore-predictive-maintenance/device_features\u001b[39m\u001b[38;5;124m\"\u001b[39m,\n\u001b[1;32m     14\u001b[0m     record_identifier_name\u001b[38;5;241m=\u001b[39m\u001b[38;5;124m\"\u001b[39m\u001b[38;5;124mRecordId\u001b[39m\u001b[38;5;124m\"\u001b[39m,\n\u001b[1;32m     15\u001b[0m     event_time_feature_name\u001b[38;5;241m=\u001b[39m\u001b[38;5;124m\"\u001b[39m\u001b[38;5;124mEventTime\u001b[39m\u001b[38;5;124m\"\u001b[39m,\n\u001b[1;32m     16\u001b[0m     role_arn\u001b[38;5;241m=\u001b[39msagemaker\u001b[38;5;241m.\u001b[39mget_execution_role(),\n\u001b[1;32m     17\u001b[0m     enable_online_store\u001b[38;5;241m=\u001b[39m\u001b[38;5;28;01mTrue\u001b[39;00m\n\u001b[1;32m     18\u001b[0m )\n\u001b[1;32m     20\u001b[0m metrics_feature_group\u001b[38;5;241m.\u001b[39mcreate(\n\u001b[1;32m     21\u001b[0m     s3_uri\u001b[38;5;241m=\u001b[39m\u001b[38;5;124mf\u001b[39m\u001b[38;5;124m\"\u001b[39m\u001b[38;5;124ms3://\u001b[39m\u001b[38;5;132;01m{\u001b[39;00mdefault_bucket\u001b[38;5;132;01m}\u001b[39;00m\u001b[38;5;124m/sagemaker-featurestore-predictive-maintenance/metrics_features\u001b[39m\u001b[38;5;124m\"\u001b[39m,\n\u001b[1;32m     22\u001b[0m     record_identifier_name\u001b[38;5;241m=\u001b[39m\u001b[38;5;124m\"\u001b[39m\u001b[38;5;124mRecordId\u001b[39m\u001b[38;5;124m\"\u001b[39m,\n\u001b[0;32m   (...)\u001b[0m\n\u001b[1;32m     25\u001b[0m     enable_online_store\u001b[38;5;241m=\u001b[39m\u001b[38;5;28;01mTrue\u001b[39;00m\n\u001b[1;32m     26\u001b[0m )\n\u001b[1;32m     28\u001b[0m \u001b[38;5;66;03m# Wait for Feature Group creation to complete\u001b[39;00m\n",
      "\u001b[0;31mNameError\u001b[0m: name 'default_bucket' is not defined"
     ]
    }
   ],
   "source": [
    "def wait_for_feature_group_creation_complete(feature_group):\n",
    "    status = feature_group.describe().get(\"FeatureGroupStatus\")\n",
    "    while status == \"Creating\":\n",
    "        print(\"Waiting for Feature Group Creation\")\n",
    "        time.sleep(5)\n",
    "        status = feature_group.describe().get(\"FeatureGroupStatus\")\n",
    "    if status != \"Created\":\n",
    "        raise RuntimeError(f\"Failed to create feature group {feature_group.name}\")\n",
    "    print(f\"FeatureGroup {feature_group.name} successfully created.\")\n",
    "\n",
    "# Create Feature Groups \n",
    "device_feature_group.create(\n",
    "    s3_uri=f\"s3://{default_bucket}/sagemaker-featurestore-predictive-maintenance/device_features\",\n",
    "    record_identifier_name=\"RecordId\",\n",
    "    event_time_feature_name=\"EventTime\",\n",
    "    role_arn=sagemaker.get_execution_role(),\n",
    "    enable_online_store=True\n",
    ")\n",
    "\n",
    "metrics_feature_group.create(\n",
    "    s3_uri=f\"s3://{default_bucket}/sagemaker-featurestore-predictive-maintenance/metrics_features\",\n",
    "    record_identifier_name=\"RecordId\",\n",
    "    event_time_feature_name=\"EventTime\",\n",
    "    role_arn=sagemaker.get_execution_role(),\n",
    "    enable_online_store=True\n",
    ")\n",
    "\n",
    "# Wait for Feature Group creation to complete\n",
    "wait_for_feature_group_creation_complete(device_feature_group)\n",
    "wait_for_feature_group_creation_complete(metrics_feature_group)\n"
   ]
  },
  {
   "cell_type": "code",
   "execution_count": 34,
   "id": "0c96b3a0-0858-4fe8-8a04-83f3b1cad1df",
   "metadata": {
    "tags": []
   },
   "outputs": [
    {
     "ename": "ResourceNotFound",
     "evalue": "An error occurred (ResourceNotFound) when calling the DescribeFeatureGroup operation: Resource Not Found: Amazon SageMaker can't find a FeatureGroup with name device-feature-group-16-16-29-15",
     "output_type": "error",
     "traceback": [
      "\u001b[0;31m---------------------------------------------------------------------------\u001b[0m",
      "\u001b[0;31mResourceNotFound\u001b[0m                          Traceback (most recent call last)",
      "Cell \u001b[0;32mIn[34], line 2\u001b[0m\n\u001b[1;32m      1\u001b[0m \u001b[38;5;66;03m# Describe device feature group\u001b[39;00m\n\u001b[0;32m----> 2\u001b[0m device_description \u001b[38;5;241m=\u001b[39m \u001b[43mdevice_feature_group\u001b[49m\u001b[38;5;241;43m.\u001b[39;49m\u001b[43mdescribe\u001b[49m\u001b[43m(\u001b[49m\u001b[43m)\u001b[49m\n\u001b[1;32m      3\u001b[0m \u001b[38;5;28mprint\u001b[39m(device_description)\n\u001b[1;32m      5\u001b[0m \u001b[38;5;66;03m# Describe metrics feature group\u001b[39;00m\n",
      "File \u001b[0;32m/opt/conda/lib/python3.10/site-packages/sagemaker/feature_store/feature_group.py:804\u001b[0m, in \u001b[0;36mFeatureGroup.describe\u001b[0;34m(self, next_token)\u001b[0m\n\u001b[1;32m    795\u001b[0m \u001b[38;5;28;01mdef\u001b[39;00m \u001b[38;5;21mdescribe\u001b[39m(\u001b[38;5;28mself\u001b[39m, next_token: \u001b[38;5;28mstr\u001b[39m \u001b[38;5;241m=\u001b[39m \u001b[38;5;28;01mNone\u001b[39;00m) \u001b[38;5;241m-\u001b[39m\u001b[38;5;241m>\u001b[39m Dict[\u001b[38;5;28mstr\u001b[39m, Any]:\n\u001b[1;32m    796\u001b[0m \u001b[38;5;250m    \u001b[39m\u001b[38;5;124;03m\"\"\"Describe a FeatureGroup.\u001b[39;00m\n\u001b[1;32m    797\u001b[0m \n\u001b[1;32m    798\u001b[0m \u001b[38;5;124;03m    Args:\u001b[39;00m\n\u001b[0;32m   (...)\u001b[0m\n\u001b[1;32m    802\u001b[0m \u001b[38;5;124;03m        Response dict from the service.\u001b[39;00m\n\u001b[1;32m    803\u001b[0m \u001b[38;5;124;03m    \"\"\"\u001b[39;00m\n\u001b[0;32m--> 804\u001b[0m     \u001b[38;5;28;01mreturn\u001b[39;00m \u001b[38;5;28;43mself\u001b[39;49m\u001b[38;5;241;43m.\u001b[39;49m\u001b[43msagemaker_session\u001b[49m\u001b[38;5;241;43m.\u001b[39;49m\u001b[43mdescribe_feature_group\u001b[49m\u001b[43m(\u001b[49m\n\u001b[1;32m    805\u001b[0m \u001b[43m        \u001b[49m\u001b[43mfeature_group_name\u001b[49m\u001b[38;5;241;43m=\u001b[39;49m\u001b[38;5;28;43mself\u001b[39;49m\u001b[38;5;241;43m.\u001b[39;49m\u001b[43mname\u001b[49m\u001b[43m,\u001b[49m\u001b[43m \u001b[49m\u001b[43mnext_token\u001b[49m\u001b[38;5;241;43m=\u001b[39;49m\u001b[43mnext_token\u001b[49m\n\u001b[1;32m    806\u001b[0m \u001b[43m    \u001b[49m\u001b[43m)\u001b[49m\n",
      "File \u001b[0;32m/opt/conda/lib/python3.10/site-packages/sagemaker/session.py:6013\u001b[0m, in \u001b[0;36mSession.describe_feature_group\u001b[0;34m(self, feature_group_name, next_token)\u001b[0m\n\u001b[1;32m   6011\u001b[0m kwargs \u001b[38;5;241m=\u001b[39m \u001b[38;5;28mdict\u001b[39m(FeatureGroupName\u001b[38;5;241m=\u001b[39mfeature_group_name)\n\u001b[1;32m   6012\u001b[0m update_args(kwargs, NextToken\u001b[38;5;241m=\u001b[39mnext_token)\n\u001b[0;32m-> 6013\u001b[0m \u001b[38;5;28;01mreturn\u001b[39;00m \u001b[38;5;28;43mself\u001b[39;49m\u001b[38;5;241;43m.\u001b[39;49m\u001b[43msagemaker_client\u001b[49m\u001b[38;5;241;43m.\u001b[39;49m\u001b[43mdescribe_feature_group\u001b[49m\u001b[43m(\u001b[49m\u001b[38;5;241;43m*\u001b[39;49m\u001b[38;5;241;43m*\u001b[39;49m\u001b[43mkwargs\u001b[49m\u001b[43m)\u001b[49m\n",
      "File \u001b[0;32m/opt/conda/lib/python3.10/site-packages/botocore/client.py:565\u001b[0m, in \u001b[0;36mClientCreator._create_api_method.<locals>._api_call\u001b[0;34m(self, *args, **kwargs)\u001b[0m\n\u001b[1;32m    561\u001b[0m     \u001b[38;5;28;01mraise\u001b[39;00m \u001b[38;5;167;01mTypeError\u001b[39;00m(\n\u001b[1;32m    562\u001b[0m         \u001b[38;5;124mf\u001b[39m\u001b[38;5;124m\"\u001b[39m\u001b[38;5;132;01m{\u001b[39;00mpy_operation_name\u001b[38;5;132;01m}\u001b[39;00m\u001b[38;5;124m() only accepts keyword arguments.\u001b[39m\u001b[38;5;124m\"\u001b[39m\n\u001b[1;32m    563\u001b[0m     )\n\u001b[1;32m    564\u001b[0m \u001b[38;5;66;03m# The \"self\" in this scope is referring to the BaseClient.\u001b[39;00m\n\u001b[0;32m--> 565\u001b[0m \u001b[38;5;28;01mreturn\u001b[39;00m \u001b[38;5;28;43mself\u001b[39;49m\u001b[38;5;241;43m.\u001b[39;49m\u001b[43m_make_api_call\u001b[49m\u001b[43m(\u001b[49m\u001b[43moperation_name\u001b[49m\u001b[43m,\u001b[49m\u001b[43m \u001b[49m\u001b[43mkwargs\u001b[49m\u001b[43m)\u001b[49m\n",
      "File \u001b[0;32m/opt/conda/lib/python3.10/site-packages/botocore/client.py:1021\u001b[0m, in \u001b[0;36mBaseClient._make_api_call\u001b[0;34m(self, operation_name, api_params)\u001b[0m\n\u001b[1;32m   1017\u001b[0m     error_code \u001b[38;5;241m=\u001b[39m error_info\u001b[38;5;241m.\u001b[39mget(\u001b[38;5;124m\"\u001b[39m\u001b[38;5;124mQueryErrorCode\u001b[39m\u001b[38;5;124m\"\u001b[39m) \u001b[38;5;129;01mor\u001b[39;00m error_info\u001b[38;5;241m.\u001b[39mget(\n\u001b[1;32m   1018\u001b[0m         \u001b[38;5;124m\"\u001b[39m\u001b[38;5;124mCode\u001b[39m\u001b[38;5;124m\"\u001b[39m\n\u001b[1;32m   1019\u001b[0m     )\n\u001b[1;32m   1020\u001b[0m     error_class \u001b[38;5;241m=\u001b[39m \u001b[38;5;28mself\u001b[39m\u001b[38;5;241m.\u001b[39mexceptions\u001b[38;5;241m.\u001b[39mfrom_code(error_code)\n\u001b[0;32m-> 1021\u001b[0m     \u001b[38;5;28;01mraise\u001b[39;00m error_class(parsed_response, operation_name)\n\u001b[1;32m   1022\u001b[0m \u001b[38;5;28;01melse\u001b[39;00m:\n\u001b[1;32m   1023\u001b[0m     \u001b[38;5;28;01mreturn\u001b[39;00m parsed_response\n",
      "\u001b[0;31mResourceNotFound\u001b[0m: An error occurred (ResourceNotFound) when calling the DescribeFeatureGroup operation: Resource Not Found: Amazon SageMaker can't find a FeatureGroup with name device-feature-group-16-16-29-15"
     ]
    }
   ],
   "source": [
    "# Describe device feature group\n",
    "device_description = device_feature_group.describe()\n",
    "print(device_description)\n",
    "\n",
    "# Describe metrics feature group\n",
    "metrics_description = metrics_feature_group.describe()\n",
    "print(metrics_description)"
   ]
  },
  {
   "cell_type": "code",
   "execution_count": null,
   "id": "b3ded23f-201d-4e07-86e8-66b162229f55",
   "metadata": {
    "tags": []
   },
   "outputs": [],
   "source": [
    "sagemaker_client.list_feature_groups() "
   ]
  },
  {
   "cell_type": "markdown",
   "id": "60b1a4fd-6d60-47f2-b56f-9f6c70645efe",
   "metadata": {},
   "source": [
    "### PutRecords into FeatureGroup"
   ]
  },
  {
   "cell_type": "code",
   "execution_count": null,
   "id": "30105559-b8b7-4096-82dd-e553f367eb57",
   "metadata": {
    "tags": []
   },
   "outputs": [],
   "source": [
    "smartgrid_feature_group.ingest(data_frame=smartgrid_feature_group_df, max_workers=3, wait=True)"
   ]
  },
  {
   "cell_type": "code",
   "execution_count": null,
   "id": "a4b036a5-380b-41c9-a017-ef0a4c2ab526",
   "metadata": {
    "tags": []
   },
   "outputs": [],
   "source": [
    "record_identifier_value = \"2011-11-23 09:00:00\"\n",
    "\n",
    "featurestore_runtime.get_record(\n",
    "    FeatureGroupName=smartgrid_feature_group_name,\n",
    "    RecordIdentifierValueAsString=record_identifier_value,\n",
    ")"
   ]
  },
  {
   "cell_type": "code",
   "execution_count": null,
   "id": "9b67fdfd-ca5e-43e6-8116-61e7396791f8",
   "metadata": {
    "tags": []
   },
   "outputs": [],
   "source": [
    "print(smartgrid_feature_group.as_hive_ddl())"
   ]
  },
  {
   "cell_type": "code",
   "execution_count": null,
   "id": "e0aa64ef-7c2e-4d37-8ff5-1199d29f1389",
   "metadata": {
    "tags": []
   },
   "outputs": [],
   "source": [
    "s3_client = boto3.client(\"s3\", region_name=region)"
   ]
  },
  {
   "cell_type": "code",
   "execution_count": null,
   "id": "625765e2-7826-4cd9-a8b3-001f6ec54aa0",
   "metadata": {
    "tags": []
   },
   "outputs": [],
   "source": [
    "account_id = boto3.client(\"sts\").get_caller_identity()[\"Account\"]\n",
    "print(account_id)\n",
    "\n",
    "smartgrid_feature_group_resolved_output_s3_uri = (\n",
    "    smartgrid_feature_group.describe()\n",
    "    .get(\"OfflineStoreConfig\")\n",
    "    .get(\"S3StorageConfig\")\n",
    "    .get(\"ResolvedOutputS3Uri\")\n",
    ")\n",
    "\n",
    "smartgrid_feature_group_s3_prefix = smartgrid_feature_group_resolved_output_s3_uri.replace(\n",
    "    f\"s3://{default_s3_bucket_name}/\", \"\"\n",
    ")\n",
    "\n",
    "offline_store_contents = None\n",
    "while offline_store_contents is None:\n",
    "    objects_in_bucket = s3_client.list_objects(\n",
    "        Bucket=default_s3_bucket_name, Prefix=smartgrid_feature_group_s3_prefix\n",
    "    )\n",
    "    if \"Contents\" in objects_in_bucket and len(objects_in_bucket[\"Contents\"]) > 1:\n",
    "        offline_store_contents = objects_in_bucket[\"Contents\"]\n",
    "    else:\n",
    "        print(\"Waiting for data in offline store...\\n\")\n",
    "        sleep(60)\n",
    "\n",
    "print(\"Data available.\")"
   ]
  },
  {
   "cell_type": "code",
   "execution_count": null,
   "id": "68b4cdeb-0b1b-4535-992c-989781a9127e",
   "metadata": {
    "tags": []
   },
   "outputs": [],
   "source": [
    "smartgrid_query = smartgrid_feature_group.athena_query()\n",
    "\n",
    "smartgrid_table = smartgrid_query.table_name"
   ]
  },
  {
   "cell_type": "code",
   "execution_count": null,
   "id": "c8fee0c5-c2d7-494e-99c7-0d278288d27c",
   "metadata": {
    "tags": []
   },
   "outputs": [],
   "source": [
    "query_string = f'''\n",
    "SELECT *\n",
    "FROM \n",
    "    \"{smartgrid_table}\"\n",
    "'''\n",
    "\n",
    "print(\"Running \" + query_string)"
   ]
  },
  {
   "cell_type": "code",
   "execution_count": null,
   "id": "10ebc26e-dcb7-446e-8100-b8c0102da56b",
   "metadata": {
    "tags": []
   },
   "outputs": [],
   "source": [
    "# run Athena query. The output is loaded to a Pandas dataframe.\n",
    "# dataset = pd.DataFrame()\n",
    "smartgrid_query.run(\n",
    "    query_string=query_string,\n",
    "    output_location=\"s3://\" + default_s3_bucket_name + \"/\" + prefix + \"/query_results/\",\n",
    ")\n",
    "smartgrid_query.wait()\n",
    "dataset = smartgrid_query.as_dataframe()\n",
    "\n",
    "dataset"
   ]
  },
  {
   "cell_type": "code",
   "execution_count": null,
   "id": "f1f57c57-782c-4639-a81e-cb659a7299df",
   "metadata": {},
   "outputs": [],
   "source": [
    "smartgrid_feature_group.delete()"
   ]
  },
  {
   "cell_type": "code",
   "execution_count": null,
   "id": "f2fa7802-d665-4e96-8535-ba37598ee00e",
   "metadata": {
    "tags": []
   },
   "outputs": [],
   "source": [
    "%%html\n",
    "\n",
    "<p><b>Shutting down your kernel for this notebook to release resources.</b></p>\n",
    "<button class=\"sm-command-button\" data-commandlinker-command=\"kernelmenu:shutdown\" style=\"display:none;\">Shutdown Kernel</button>\n",
    "        \n",
    "<script>\n",
    "try {\n",
    "    els = document.getElementsByClassName(\"sm-command-button\");\n",
    "    els[0].click();\n",
    "}\n",
    "catch(err) {\n",
    "    // NoOp\n",
    "}    \n",
    "</script>"
   ]
  },
  {
   "cell_type": "code",
   "execution_count": null,
   "id": "8b0dac90-dfbf-4b84-a8a4-432bda43417a",
   "metadata": {},
   "outputs": [],
   "source": []
  }
 ],
 "metadata": {
  "availableInstances": [
   {
    "_defaultOrder": 0,
    "_isFastLaunch": true,
    "category": "General purpose",
    "gpuNum": 0,
    "hideHardwareSpecs": false,
    "memoryGiB": 4,
    "name": "ml.t3.medium",
    "vcpuNum": 2
   },
   {
    "_defaultOrder": 1,
    "_isFastLaunch": false,
    "category": "General purpose",
    "gpuNum": 0,
    "hideHardwareSpecs": false,
    "memoryGiB": 8,
    "name": "ml.t3.large",
    "vcpuNum": 2
   },
   {
    "_defaultOrder": 2,
    "_isFastLaunch": false,
    "category": "General purpose",
    "gpuNum": 0,
    "hideHardwareSpecs": false,
    "memoryGiB": 16,
    "name": "ml.t3.xlarge",
    "vcpuNum": 4
   },
   {
    "_defaultOrder": 3,
    "_isFastLaunch": false,
    "category": "General purpose",
    "gpuNum": 0,
    "hideHardwareSpecs": false,
    "memoryGiB": 32,
    "name": "ml.t3.2xlarge",
    "vcpuNum": 8
   },
   {
    "_defaultOrder": 4,
    "_isFastLaunch": true,
    "category": "General purpose",
    "gpuNum": 0,
    "hideHardwareSpecs": false,
    "memoryGiB": 8,
    "name": "ml.m5.large",
    "vcpuNum": 2
   },
   {
    "_defaultOrder": 5,
    "_isFastLaunch": false,
    "category": "General purpose",
    "gpuNum": 0,
    "hideHardwareSpecs": false,
    "memoryGiB": 16,
    "name": "ml.m5.xlarge",
    "vcpuNum": 4
   },
   {
    "_defaultOrder": 6,
    "_isFastLaunch": false,
    "category": "General purpose",
    "gpuNum": 0,
    "hideHardwareSpecs": false,
    "memoryGiB": 32,
    "name": "ml.m5.2xlarge",
    "vcpuNum": 8
   },
   {
    "_defaultOrder": 7,
    "_isFastLaunch": false,
    "category": "General purpose",
    "gpuNum": 0,
    "hideHardwareSpecs": false,
    "memoryGiB": 64,
    "name": "ml.m5.4xlarge",
    "vcpuNum": 16
   },
   {
    "_defaultOrder": 8,
    "_isFastLaunch": false,
    "category": "General purpose",
    "gpuNum": 0,
    "hideHardwareSpecs": false,
    "memoryGiB": 128,
    "name": "ml.m5.8xlarge",
    "vcpuNum": 32
   },
   {
    "_defaultOrder": 9,
    "_isFastLaunch": false,
    "category": "General purpose",
    "gpuNum": 0,
    "hideHardwareSpecs": false,
    "memoryGiB": 192,
    "name": "ml.m5.12xlarge",
    "vcpuNum": 48
   },
   {
    "_defaultOrder": 10,
    "_isFastLaunch": false,
    "category": "General purpose",
    "gpuNum": 0,
    "hideHardwareSpecs": false,
    "memoryGiB": 256,
    "name": "ml.m5.16xlarge",
    "vcpuNum": 64
   },
   {
    "_defaultOrder": 11,
    "_isFastLaunch": false,
    "category": "General purpose",
    "gpuNum": 0,
    "hideHardwareSpecs": false,
    "memoryGiB": 384,
    "name": "ml.m5.24xlarge",
    "vcpuNum": 96
   },
   {
    "_defaultOrder": 12,
    "_isFastLaunch": false,
    "category": "General purpose",
    "gpuNum": 0,
    "hideHardwareSpecs": false,
    "memoryGiB": 8,
    "name": "ml.m5d.large",
    "vcpuNum": 2
   },
   {
    "_defaultOrder": 13,
    "_isFastLaunch": false,
    "category": "General purpose",
    "gpuNum": 0,
    "hideHardwareSpecs": false,
    "memoryGiB": 16,
    "name": "ml.m5d.xlarge",
    "vcpuNum": 4
   },
   {
    "_defaultOrder": 14,
    "_isFastLaunch": false,
    "category": "General purpose",
    "gpuNum": 0,
    "hideHardwareSpecs": false,
    "memoryGiB": 32,
    "name": "ml.m5d.2xlarge",
    "vcpuNum": 8
   },
   {
    "_defaultOrder": 15,
    "_isFastLaunch": false,
    "category": "General purpose",
    "gpuNum": 0,
    "hideHardwareSpecs": false,
    "memoryGiB": 64,
    "name": "ml.m5d.4xlarge",
    "vcpuNum": 16
   },
   {
    "_defaultOrder": 16,
    "_isFastLaunch": false,
    "category": "General purpose",
    "gpuNum": 0,
    "hideHardwareSpecs": false,
    "memoryGiB": 128,
    "name": "ml.m5d.8xlarge",
    "vcpuNum": 32
   },
   {
    "_defaultOrder": 17,
    "_isFastLaunch": false,
    "category": "General purpose",
    "gpuNum": 0,
    "hideHardwareSpecs": false,
    "memoryGiB": 192,
    "name": "ml.m5d.12xlarge",
    "vcpuNum": 48
   },
   {
    "_defaultOrder": 18,
    "_isFastLaunch": false,
    "category": "General purpose",
    "gpuNum": 0,
    "hideHardwareSpecs": false,
    "memoryGiB": 256,
    "name": "ml.m5d.16xlarge",
    "vcpuNum": 64
   },
   {
    "_defaultOrder": 19,
    "_isFastLaunch": false,
    "category": "General purpose",
    "gpuNum": 0,
    "hideHardwareSpecs": false,
    "memoryGiB": 384,
    "name": "ml.m5d.24xlarge",
    "vcpuNum": 96
   },
   {
    "_defaultOrder": 20,
    "_isFastLaunch": false,
    "category": "General purpose",
    "gpuNum": 0,
    "hideHardwareSpecs": true,
    "memoryGiB": 0,
    "name": "ml.geospatial.interactive",
    "supportedImageNames": [
     "sagemaker-geospatial-v1-0"
    ],
    "vcpuNum": 0
   },
   {
    "_defaultOrder": 21,
    "_isFastLaunch": true,
    "category": "Compute optimized",
    "gpuNum": 0,
    "hideHardwareSpecs": false,
    "memoryGiB": 4,
    "name": "ml.c5.large",
    "vcpuNum": 2
   },
   {
    "_defaultOrder": 22,
    "_isFastLaunch": false,
    "category": "Compute optimized",
    "gpuNum": 0,
    "hideHardwareSpecs": false,
    "memoryGiB": 8,
    "name": "ml.c5.xlarge",
    "vcpuNum": 4
   },
   {
    "_defaultOrder": 23,
    "_isFastLaunch": false,
    "category": "Compute optimized",
    "gpuNum": 0,
    "hideHardwareSpecs": false,
    "memoryGiB": 16,
    "name": "ml.c5.2xlarge",
    "vcpuNum": 8
   },
   {
    "_defaultOrder": 24,
    "_isFastLaunch": false,
    "category": "Compute optimized",
    "gpuNum": 0,
    "hideHardwareSpecs": false,
    "memoryGiB": 32,
    "name": "ml.c5.4xlarge",
    "vcpuNum": 16
   },
   {
    "_defaultOrder": 25,
    "_isFastLaunch": false,
    "category": "Compute optimized",
    "gpuNum": 0,
    "hideHardwareSpecs": false,
    "memoryGiB": 72,
    "name": "ml.c5.9xlarge",
    "vcpuNum": 36
   },
   {
    "_defaultOrder": 26,
    "_isFastLaunch": false,
    "category": "Compute optimized",
    "gpuNum": 0,
    "hideHardwareSpecs": false,
    "memoryGiB": 96,
    "name": "ml.c5.12xlarge",
    "vcpuNum": 48
   },
   {
    "_defaultOrder": 27,
    "_isFastLaunch": false,
    "category": "Compute optimized",
    "gpuNum": 0,
    "hideHardwareSpecs": false,
    "memoryGiB": 144,
    "name": "ml.c5.18xlarge",
    "vcpuNum": 72
   },
   {
    "_defaultOrder": 28,
    "_isFastLaunch": false,
    "category": "Compute optimized",
    "gpuNum": 0,
    "hideHardwareSpecs": false,
    "memoryGiB": 192,
    "name": "ml.c5.24xlarge",
    "vcpuNum": 96
   },
   {
    "_defaultOrder": 29,
    "_isFastLaunch": true,
    "category": "Accelerated computing",
    "gpuNum": 1,
    "hideHardwareSpecs": false,
    "memoryGiB": 16,
    "name": "ml.g4dn.xlarge",
    "vcpuNum": 4
   },
   {
    "_defaultOrder": 30,
    "_isFastLaunch": false,
    "category": "Accelerated computing",
    "gpuNum": 1,
    "hideHardwareSpecs": false,
    "memoryGiB": 32,
    "name": "ml.g4dn.2xlarge",
    "vcpuNum": 8
   },
   {
    "_defaultOrder": 31,
    "_isFastLaunch": false,
    "category": "Accelerated computing",
    "gpuNum": 1,
    "hideHardwareSpecs": false,
    "memoryGiB": 64,
    "name": "ml.g4dn.4xlarge",
    "vcpuNum": 16
   },
   {
    "_defaultOrder": 32,
    "_isFastLaunch": false,
    "category": "Accelerated computing",
    "gpuNum": 1,
    "hideHardwareSpecs": false,
    "memoryGiB": 128,
    "name": "ml.g4dn.8xlarge",
    "vcpuNum": 32
   },
   {
    "_defaultOrder": 33,
    "_isFastLaunch": false,
    "category": "Accelerated computing",
    "gpuNum": 4,
    "hideHardwareSpecs": false,
    "memoryGiB": 192,
    "name": "ml.g4dn.12xlarge",
    "vcpuNum": 48
   },
   {
    "_defaultOrder": 34,
    "_isFastLaunch": false,
    "category": "Accelerated computing",
    "gpuNum": 1,
    "hideHardwareSpecs": false,
    "memoryGiB": 256,
    "name": "ml.g4dn.16xlarge",
    "vcpuNum": 64
   },
   {
    "_defaultOrder": 35,
    "_isFastLaunch": false,
    "category": "Accelerated computing",
    "gpuNum": 1,
    "hideHardwareSpecs": false,
    "memoryGiB": 61,
    "name": "ml.p3.2xlarge",
    "vcpuNum": 8
   },
   {
    "_defaultOrder": 36,
    "_isFastLaunch": false,
    "category": "Accelerated computing",
    "gpuNum": 4,
    "hideHardwareSpecs": false,
    "memoryGiB": 244,
    "name": "ml.p3.8xlarge",
    "vcpuNum": 32
   },
   {
    "_defaultOrder": 37,
    "_isFastLaunch": false,
    "category": "Accelerated computing",
    "gpuNum": 8,
    "hideHardwareSpecs": false,
    "memoryGiB": 488,
    "name": "ml.p3.16xlarge",
    "vcpuNum": 64
   },
   {
    "_defaultOrder": 38,
    "_isFastLaunch": false,
    "category": "Accelerated computing",
    "gpuNum": 8,
    "hideHardwareSpecs": false,
    "memoryGiB": 768,
    "name": "ml.p3dn.24xlarge",
    "vcpuNum": 96
   },
   {
    "_defaultOrder": 39,
    "_isFastLaunch": false,
    "category": "Memory Optimized",
    "gpuNum": 0,
    "hideHardwareSpecs": false,
    "memoryGiB": 16,
    "name": "ml.r5.large",
    "vcpuNum": 2
   },
   {
    "_defaultOrder": 40,
    "_isFastLaunch": false,
    "category": "Memory Optimized",
    "gpuNum": 0,
    "hideHardwareSpecs": false,
    "memoryGiB": 32,
    "name": "ml.r5.xlarge",
    "vcpuNum": 4
   },
   {
    "_defaultOrder": 41,
    "_isFastLaunch": false,
    "category": "Memory Optimized",
    "gpuNum": 0,
    "hideHardwareSpecs": false,
    "memoryGiB": 64,
    "name": "ml.r5.2xlarge",
    "vcpuNum": 8
   },
   {
    "_defaultOrder": 42,
    "_isFastLaunch": false,
    "category": "Memory Optimized",
    "gpuNum": 0,
    "hideHardwareSpecs": false,
    "memoryGiB": 128,
    "name": "ml.r5.4xlarge",
    "vcpuNum": 16
   },
   {
    "_defaultOrder": 43,
    "_isFastLaunch": false,
    "category": "Memory Optimized",
    "gpuNum": 0,
    "hideHardwareSpecs": false,
    "memoryGiB": 256,
    "name": "ml.r5.8xlarge",
    "vcpuNum": 32
   },
   {
    "_defaultOrder": 44,
    "_isFastLaunch": false,
    "category": "Memory Optimized",
    "gpuNum": 0,
    "hideHardwareSpecs": false,
    "memoryGiB": 384,
    "name": "ml.r5.12xlarge",
    "vcpuNum": 48
   },
   {
    "_defaultOrder": 45,
    "_isFastLaunch": false,
    "category": "Memory Optimized",
    "gpuNum": 0,
    "hideHardwareSpecs": false,
    "memoryGiB": 512,
    "name": "ml.r5.16xlarge",
    "vcpuNum": 64
   },
   {
    "_defaultOrder": 46,
    "_isFastLaunch": false,
    "category": "Memory Optimized",
    "gpuNum": 0,
    "hideHardwareSpecs": false,
    "memoryGiB": 768,
    "name": "ml.r5.24xlarge",
    "vcpuNum": 96
   },
   {
    "_defaultOrder": 47,
    "_isFastLaunch": false,
    "category": "Accelerated computing",
    "gpuNum": 1,
    "hideHardwareSpecs": false,
    "memoryGiB": 16,
    "name": "ml.g5.xlarge",
    "vcpuNum": 4
   },
   {
    "_defaultOrder": 48,
    "_isFastLaunch": false,
    "category": "Accelerated computing",
    "gpuNum": 1,
    "hideHardwareSpecs": false,
    "memoryGiB": 32,
    "name": "ml.g5.2xlarge",
    "vcpuNum": 8
   },
   {
    "_defaultOrder": 49,
    "_isFastLaunch": false,
    "category": "Accelerated computing",
    "gpuNum": 1,
    "hideHardwareSpecs": false,
    "memoryGiB": 64,
    "name": "ml.g5.4xlarge",
    "vcpuNum": 16
   },
   {
    "_defaultOrder": 50,
    "_isFastLaunch": false,
    "category": "Accelerated computing",
    "gpuNum": 1,
    "hideHardwareSpecs": false,
    "memoryGiB": 128,
    "name": "ml.g5.8xlarge",
    "vcpuNum": 32
   },
   {
    "_defaultOrder": 51,
    "_isFastLaunch": false,
    "category": "Accelerated computing",
    "gpuNum": 1,
    "hideHardwareSpecs": false,
    "memoryGiB": 256,
    "name": "ml.g5.16xlarge",
    "vcpuNum": 64
   },
   {
    "_defaultOrder": 52,
    "_isFastLaunch": false,
    "category": "Accelerated computing",
    "gpuNum": 4,
    "hideHardwareSpecs": false,
    "memoryGiB": 192,
    "name": "ml.g5.12xlarge",
    "vcpuNum": 48
   },
   {
    "_defaultOrder": 53,
    "_isFastLaunch": false,
    "category": "Accelerated computing",
    "gpuNum": 4,
    "hideHardwareSpecs": false,
    "memoryGiB": 384,
    "name": "ml.g5.24xlarge",
    "vcpuNum": 96
   },
   {
    "_defaultOrder": 54,
    "_isFastLaunch": false,
    "category": "Accelerated computing",
    "gpuNum": 8,
    "hideHardwareSpecs": false,
    "memoryGiB": 768,
    "name": "ml.g5.48xlarge",
    "vcpuNum": 192
   },
   {
    "_defaultOrder": 55,
    "_isFastLaunch": false,
    "category": "Accelerated computing",
    "gpuNum": 8,
    "hideHardwareSpecs": false,
    "memoryGiB": 1152,
    "name": "ml.p4d.24xlarge",
    "vcpuNum": 96
   },
   {
    "_defaultOrder": 56,
    "_isFastLaunch": false,
    "category": "Accelerated computing",
    "gpuNum": 8,
    "hideHardwareSpecs": false,
    "memoryGiB": 1152,
    "name": "ml.p4de.24xlarge",
    "vcpuNum": 96
   },
   {
    "_defaultOrder": 57,
    "_isFastLaunch": false,
    "category": "Accelerated computing",
    "gpuNum": 0,
    "hideHardwareSpecs": false,
    "memoryGiB": 32,
    "name": "ml.trn1.2xlarge",
    "vcpuNum": 8
   },
   {
    "_defaultOrder": 58,
    "_isFastLaunch": false,
    "category": "Accelerated computing",
    "gpuNum": 0,
    "hideHardwareSpecs": false,
    "memoryGiB": 512,
    "name": "ml.trn1.32xlarge",
    "vcpuNum": 128
   },
   {
    "_defaultOrder": 59,
    "_isFastLaunch": false,
    "category": "Accelerated computing",
    "gpuNum": 0,
    "hideHardwareSpecs": false,
    "memoryGiB": 512,
    "name": "ml.trn1n.32xlarge",
    "vcpuNum": 128
   }
  ],
  "instance_type": "ml.t3.medium",
  "kernelspec": {
   "display_name": "Python 3 (Data Science 3.0)",
   "language": "python",
   "name": "python3__SAGEMAKER_INTERNAL__arn:aws:sagemaker:us-east-1:081325390199:image/sagemaker-data-science-310-v1"
  },
  "language_info": {
   "codemirror_mode": {
    "name": "ipython",
    "version": 3
   },
   "file_extension": ".py",
   "mimetype": "text/x-python",
   "name": "python",
   "nbconvert_exporter": "python",
   "pygments_lexer": "ipython3",
   "version": "3.10.6"
  }
 },
 "nbformat": 4,
 "nbformat_minor": 5
}
